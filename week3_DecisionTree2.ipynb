{
 "cells": [
  {
   "cell_type": "markdown",
   "metadata": {},
   "source": [
    "## Tobigs 3주차 DecisionTree 과제2 - Entropy & Gain\n",
    "#### 15기 이윤정\n",
    "---"
   ]
  },
  {
   "cell_type": "code",
   "execution_count": null,
   "metadata": {},
   "outputs": [],
   "source": [
    "import pandas as pd \n",
    "import numpy as np\n",
    "import math\n",
    "\n",
    "df = pd.read_csv('https://raw.githubusercontent.com/AugustLONG/ML01/master/01decisiontree/AllElectronics.csv')\n",
    "df.drop(\"RID\",axis=1, inplace = True) #RID는 그냥 Index라서 삭제"
   ]
  },
  {
   "cell_type": "code",
   "execution_count": null,
   "metadata": {},
   "outputs": [],
   "source": [
    "df"
   ]
  },
  {
   "cell_type": "code",
   "execution_count": null,
   "metadata": {},
   "outputs": [],
   "source": [
    "def getEntropy(df, feature) :\n",
    "    entropy = 0\n",
    "    \n",
    "    for i in range(0, len(df[feature].unique())):\n",
    "        p = df[feature].value_counts()[i]/len(df)\n",
    "        entropy -= p*math.log(p, 2)\n",
    "    \n",
    "    return(entropy)"
   ]
  },
  {
   "cell_type": "code",
   "execution_count": null,
   "metadata": {},
   "outputs": [],
   "source": [
    "getEntropy(df, \"class_buys_computer\")"
   ]
  },
  {
   "cell_type": "code",
   "execution_count": null,
   "metadata": {},
   "outputs": [],
   "source": [
    "def getGainA(df, feature) :\n",
    "    info_D = getEntropy(df, feature) # 목표변수에 대한 Entropy 를 구하기\n",
    "    columns = list(df.loc[:, df.columns != feature]) # 목표변수(feature)를 제외한 나머지 변수들의 변수명을 리스트 형태로 저장\n",
    "    gain = []\n",
    "    \n",
    "    for i in range(0, len(columns)):\n",
    "        info = 0\n",
    "        \n",
    "        for j in range(0, len(df[columns[i]].unique())) :\n",
    "            mat = df.loc[df[columns[i]] == df[columns[i]].unique()[j]]\n",
    "            info += (len(mat)/len(df)) * getEntropy(mat, feature)    \n",
    "        \n",
    "        gain.append(info_D-info)\n",
    "        \n",
    "    result = {columns: gain for columns, gain in zip(columns, gain)}\n",
    "    \n",
    "    return(result)"
   ]
  },
  {
   "cell_type": "code",
   "execution_count": null,
   "metadata": {},
   "outputs": [],
   "source": [
    "getGainA(df, \"class_buys_computer\")"
   ]
  }
 ],
 "metadata": {
  "kernelspec": {
   "display_name": "Python 3",
   "language": "python",
   "name": "python3"
  },
  "language_info": {
   "codemirror_mode": {
    "name": "ipython",
    "version": 3
   },
   "file_extension": ".py",
   "mimetype": "text/x-python",
   "name": "python",
   "nbconvert_exporter": "python",
   "pygments_lexer": "ipython3",
   "version": "3.7.6"
  }
 },
 "nbformat": 4,
 "nbformat_minor": 4
}
