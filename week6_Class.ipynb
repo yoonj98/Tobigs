{
 "cells": [
  {
   "cell_type": "markdown",
   "metadata": {},
   "source": [
    "## Tobigs 6주차 Class 과제\n",
    "#### 15기 이윤정\n",
    "----"
   ]
  },
  {
   "cell_type": "markdown",
   "metadata": {},
   "source": [
    "### Solid 원칙이란?  \n",
    "    :객체지향언어에서 프로그래머가 시간이 지나도 유지보수와 확장이 쉬운 소프트웨어를 만들기 위해 지켜야할 원칙 "
   ]
  },
  {
   "cell_type": "markdown",
   "metadata": {},
   "source": [
    "#### 1. SRP(단일 책임 원칙)  \n",
    "    : 하나의 객체는 하나의 책임을 가져야 하며, 해당 책임에 대해 완전히 캡슐화해야 함을 의미한다. (너무 많은 책임을 지니면 서로 연관되기 때문)"
   ]
  },
  {
   "cell_type": "code",
   "execution_count": 7,
   "metadata": {},
   "outputs": [],
   "source": [
    "#선박 클래스\n",
    "class ship:\n",
    "    def __init__(self, fuel, fuel_per_hour, supplies, num_crew):\n",
    "        self.fuel_tank = FuelTank(fuel)\n",
    "        self.crew_manager = CrewManager(num_crew)\n",
    "        self.supply_hold = SupplyHold(supplies, self.crew_manager)\n",
    "        self.engine = Engine(self.fuel_tank, fuel_per_hour)\n",
    "\n",
    "#연료탱크 클래스        \n",
    "class FuelTank:\n",
    "    def __init__(self, fuel):\n",
    "        self.fuel = fuel\n",
    "    \n",
    "    #연료 충전 메소드\n",
    "    def load_fuel(self, amount):\n",
    "        self.fuel += amount\n",
    "    \n",
    "    #연료 사용 메소드\n",
    "    def use_fuel(self, amount):\n",
    "        if self.fuel - amount >= 0:\n",
    "            self.fuel -= amount\n",
    "            return True\n",
    "        \n",
    "        print(\"연료 부족!\")\n",
    "        return False\n",
    "    \n",
    "    #연료량 확인 메소드\n",
    "    def report_fuel(self):\n",
    "        print(\"남은 연료 : {}L\".format(self.fuel))\n",
    "\n",
    "#엔진 클래스\n",
    "class Engine:\n",
    "    def __init__(self, fuel_tank, fuel_per_hour):\n",
    "        self.fuel_tank = fuel_tank\n",
    "        self.fuel_per_hour = fuel_per_hour\n",
    "    \n",
    "    #구동 시간 메소드\n",
    "    def run_for_hours(self, hours):\n",
    "        if self.fuel_tank.use_fuel(self.fuel_per_hour * hours):\n",
    "            print(\"엔진 가동 시간 : {}시간\".format(hours))\n",
    "            return True\n",
    " \n",
    "        print(\"연료 부족!\")\n",
    "        return False\n",
    "    \n",
    "#선원 관리 메소드\n",
    "class CrewManager:\n",
    "    def __init__(self, num_crew):\n",
    "        self.num_crew = num_crew\n",
    "    \n",
    "    #선원 승선 메소드\n",
    "    def load_crew(self, number):\n",
    "        self.num_crew += number\n",
    "    \n",
    "    #선원 보고 메소드\n",
    "    def report_crew(self):\n",
    "        print(\"선원 수 : {}명\".format(self.num_crew))\n",
    "\n",
    "#물자 관리 메소드\n",
    "class SupplyHold:\n",
    "    def __init__(self, supplies, crew_manager):\n",
    "        self.supplies = supplies\n",
    "        self.crew_manager = crew_manager\n",
    "    \n",
    "    #물자 충전 메소드\n",
    "    def load_supplies(self, amount):\n",
    "        self.supplies += amount\n",
    "    \n",
    "    #물자 배분 메소드\n",
    "    def distribute_supplies_to_crew(self):\n",
    "        if self.supplies >= self.crew_manager.num_crew:\n",
    "            self.supplies -= self.crew_manager.num_crew\n",
    "            return True\n",
    " \n",
    "        print(\"물자 부족!\")\n",
    "        return False\n",
    "  \n",
    "    def report_supplies(self):\n",
    "        print(\"남은 물자량 : {}명분\".format(self.supplies))"
   ]
  },
  {
   "cell_type": "code",
   "execution_count": 8,
   "metadata": {},
   "outputs": [
    {
     "name": "stdout",
     "output_type": "stream",
     "text": [
      "남은 연료 : 1000L\n",
      "엔진 가동 시간 : 7시간\n",
      "선원 수 : 18명\n",
      "남은 물자량 : 24명분\n"
     ]
    }
   ],
   "source": [
    "boat = ship(1000, 5, 24, 18)\n",
    "\n",
    "boat.fuel_tank.report_fuel()\n",
    "boat.engine.run_for_hours(7)\n",
    "boat.crew_manager.report_crew()\n",
    "boat.supply_hold.report_supplies()"
   ]
  },
  {
   "cell_type": "markdown",
   "metadata": {},
   "source": [
    "만약 Ship 클래스가 연료, 엔진, 선원, 물자의 역할을 모두 수행하도록 코드를 구현했다면, ship 클래스 변경 시 다른 역할들도 모두 고려했어야 했다. 그러나 Ship 클래스의 하위 클래스로 FuelTank, Engine, CrewManager, SupplyHold를 선언하여 각 클래스 당 하나의 책임을 갖게 되었다. 이는 예를 들어 Engine class를 변경하여도 다른 class에는 영향을 끼치지 않는다는 것을 의미한다. 그러므로, 본 코드는 단일 책임 원칙(SRP)를 만족한다고 볼 수 있다. "
   ]
  },
  {
   "cell_type": "markdown",
   "metadata": {},
   "source": [
    "#### 2. OCP (개방-폐쇄 원칙)  \n",
    "    : 기존의 코드를 변경하지 않고, 기능을 추가할 수 있도록 설계해야 한다."
   ]
  },
  {
   "cell_type": "code",
   "execution_count": 10,
   "metadata": {},
   "outputs": [],
   "source": [
    "#추상메소드\n",
    "from abc import ABC, abstractmethod\n",
    " \n",
    "#기본 키보드 - 추상메소드\n",
    "class Keyboard(ABC):\n",
    "    def save_input(self, content: str) -> None:\n",
    "        pass\n",
    " \n",
    "    def send_input(self) -> str:\n",
    "        pass\n",
    "\n",
    "#애플키보드    \n",
    "class AppleKeyboard(Keyboard):\n",
    "    def __init__(self):\n",
    "        self.keyboard_input = \"\"\n",
    " \n",
    "    def save_input(self, input):\n",
    "        self.keyboard_input = input\n",
    " \n",
    "    def send_input(self):\n",
    "        return self.keyboard_input\n",
    "\n",
    "#삼성키보드    \n",
    "class SamsungKeyboard(Keyboard):\n",
    "    def __init__(self):\n",
    "        self.user_input = \"\"\n",
    " \n",
    "    def save_input(self, input):\n",
    "        self.user_input = input\n",
    " \n",
    "    def send_input(self):\n",
    "        return self.user_input\n",
    "    \n",
    "#키보드 관리 \n",
    "class KeyboardManager:\n",
    "    def __init__(self):\n",
    "        self.keyboard = None\n",
    " \n",
    "    def connect_to_keyboard(self, keyboard):\n",
    "        self.keyboard = keyboard\n",
    " \n",
    "    def get_keyboard_input(self):\n",
    "        return self.keyboard.send_input()"
   ]
  },
  {
   "cell_type": "code",
   "execution_count": 15,
   "metadata": {},
   "outputs": [
    {
     "name": "stdout",
     "output_type": "stream",
     "text": [
      "안녕하세요\n",
      "안녕하세요\n"
     ]
    }
   ],
   "source": [
    "keyboard_manager = KeyboardManager()\n",
    " \n",
    "apple_keyboard = AppleKeyboard()\n",
    "samsung_keyboard = SamsungKeyboard()\n",
    " \n",
    "keyboard_manager.connect_to_keyboard(apple_keyboard)\n",
    "apple_keyboard.save_input(\"안녕하세요\")\n",
    "print(keyboard_manager.get_keyboard_input())\n",
    " \n",
    "keynoard_manager.connect_to_keyboard(apple_keyboard)\n",
    "samsung_keyboard.save_input(\"안녕하세요\")\n",
    "print(keyboard_manager.get_keyboard_input())"
   ]
  },
  {
   "cell_type": "markdown",
   "metadata": {},
   "source": [
    "Keyboard 클래스를 추상화 클래스로 선언해주어, applekeyboard와 samsungkeyboard 모두 save_input과 send_input을 동시에 사용할 수 있게 해주었다. 만약, 추상화를 하지 않았다면 같은 변수를 한 클래스 내에서 사용하는 것은 불가능하므로 다른 인스턴스를 생성해주어야 했을 것이다. 만약 apple, samsung 이외의 키보드를 추가한다고 해도 해당 메소드는 변경하지 않아도 된다. 해당 코드는 확장에 열려있고, 수정에 닫혀 있다고 볼 수 있기 때문에 개방-폐쇄 원칙(OCP)를 만족할 수 있다고 볼 수 있다."
   ]
  },
  {
   "cell_type": "markdown",
   "metadata": {},
   "source": [
    "#### 3. LSP (리스코프 치환 원칙)  \n",
    "    : 부모 클래스와 자식 클래스 사이의 행위에는 일관성이 있어야 한다. (일반화 관계 IS:A가 성립해야 함.)"
   ]
  },
  {
   "cell_type": "code",
   "execution_count": 19,
   "metadata": {},
   "outputs": [],
   "source": [
    "#super class\n",
    "class Vehicle:\n",
    "    def __init__(self, name: str, speed: float):\n",
    "        self.name = name\n",
    "        self.speed = speed\n",
    "        \n",
    "    def get_name(self) -> str:\n",
    "        return f\"The vehicle name {self.name}\"\n",
    "    \n",
    "    def get_speed(self) -> str:\n",
    "        return f\"The vehicle speed {self.speed}\"\n",
    "\n",
    "#sub class    \n",
    "class VehicleWithoutEngine(Vehicle):\n",
    "    def start_moving(self):\n",
    "        raise NotImplemented\n",
    "        \n",
    "class VehicleWithEngine(Vehicle):\n",
    "    def engine(self):\n",
    "        pass\n",
    "    \n",
    "    def start_engine(self):\n",
    "        self.engine()\n",
    "         \n",
    "class Car(VehicleWithEngine):\n",
    "    def start_engine(self):\n",
    "        pass\n",
    "    \n",
    "class Bicycle(VehicleWithoutEngine):\n",
    "    def start_moving(self):\n",
    "        pass"
   ]
  },
  {
   "cell_type": "markdown",
   "metadata": {},
   "source": [
    "서브클래스로 엔진이 존재하는 이동수단과 존재하지 않는 이동수단으로 분리되었다. 만약 서브 클래스로 분리하지 않고 super 클래스에 엔진 메소드를 구현했다면 자전거는 엔진이 존재하지 않으므로 객체의 행위 간의 일관성, 즉 IS-A 관계가 만족하지 않았을 것이다. 엔진의 유무로 서브클래스를 분리하여 IS-A 관계를 만족하였으므로 해당 코드는 리스코프 치환 법칙(LSP)를 만족한다고 볼 수 있다."
   ]
  },
  {
   "cell_type": "markdown",
   "metadata": {},
   "source": [
    "#### 4. DIP (의존 역전 원칙)  \n",
    "    : 추상화를 통해 세부 사항에 의존하지 않도록 해야 하지만, 반대로 세부사항 (구체적인 구현은)은 추상화에 의존해야 한다. 이때, '의존하지 않는다'라는 것은 저수준 모듈의 변경이나 추가 등에 있어 변경점이 없어야 한다는 것을 의미한다.)"
   ]
  },
  {
   "cell_type": "code",
   "execution_count": 5,
   "metadata": {},
   "outputs": [],
   "source": [
    "class Enetertainment:\n",
    "    def __init__(self, entertainer): \n",
    "        self.set_entertainer(entertainer)\n",
    "        \n",
    "    def set_entertainer(self, entertainer):\n",
    "        self.entertainer = entertainer\n",
    "        \n",
    "    def begin_debut(self):\n",
    "        self.entertainer.debut()\n",
    "        \n",
    "class Idol:\n",
    "    def debut(self):\n",
    "        print('아이돌 그룹으로 데뷔')\n",
    "        pass\n",
    "\n",
    "class Actor:\n",
    "    def debut(self):\n",
    "        print('배우로 데뷔')\n",
    "        pass"
   ]
  },
  {
   "cell_type": "code",
   "execution_count": 6,
   "metadata": {},
   "outputs": [
    {
     "name": "stdout",
     "output_type": "stream",
     "text": [
      "아이돌 그룹으로 데뷔\n",
      "배우로 데뷔\n"
     ]
    }
   ],
   "source": [
    "idol = Idol()\n",
    "actor = Actor()\n",
    "\n",
    "debut1 = Enetertainment(idol)\n",
    "debut1.begin_debut()\n",
    "\n",
    "debut2 = Enetertainment(actor)\n",
    "debut2.begin_debut()"
   ]
  },
  {
   "cell_type": "markdown",
   "metadata": {},
   "source": [
    "Entertainment 클래스에서 하위 클래스의 debut() 메소드를 호출하고자 할 때, 직접적으로 Idol.debut()로 호출한다면 하위 클래스인 Idol 클래스의 debut() 메소드를 변경 시 상위 클래스인 Entertainment도 수정을 해야한다. 이는 상위 클래스가 하위 클래스에 의존한다고 볼 수 있다. DIP 원칙을 만족하기 위해선 상위 클래스에서 하위 클래스를 활용 시 하위 클래스에 따라 변경되지 않도록 의존성을 주입하여 추상화된 설계를 해야한다. 해당 부분은 상위 클래스의 __init__ 메소드와 begin_debut() 메소드에서 찾아 볼 수 있다. 따라서, 해당 코드는 의존 역전 원칙(DIP)를 만족한다고 볼 수 있다."
   ]
  },
  {
   "cell_type": "markdown",
   "metadata": {},
   "source": [
    "#### 5. ISP (인터페이스 분리 원칙)  \n",
    "    : 자신이 사용하지 않는 기능에 영향 받지 말아야 한다. (인터페이스를 클라이언트에 특화되도록 분리시키라는 의미)"
   ]
  },
  {
   "cell_type": "code",
   "execution_count": 55,
   "metadata": {},
   "outputs": [],
   "source": [
    "from abc import *\n",
    "\n",
    "class PrinterDevice(metaclass=ABCMeta):\n",
    "    def print(self):\n",
    "        pass   \n",
    "\n",
    "class CopyDevice(metaclass=ABCMeta):\n",
    "    def copy(self):\n",
    "        pass   \n",
    "\n",
    "class FaxDevice(metaclass=ABCMeta):\n",
    "    def fax(self):\n",
    "        pass   \n",
    "    \n",
    "class SmartMachine(PrinterDevice, CopyDevice, FaxDevice):\n",
    "    def print(self):\n",
    "        print(\"printing!\")\n",
    "    \n",
    "    def copy(self):\n",
    "        print(\"coping!\")\n",
    "        \n",
    "    def fax(self):\n",
    "        print(\"faxing!\")"
   ]
  },
  {
   "cell_type": "code",
   "execution_count": 57,
   "metadata": {},
   "outputs": [
    {
     "name": "stdout",
     "output_type": "stream",
     "text": [
      "printing!\n",
      "coping!\n",
      "faxing!\n"
     ]
    }
   ],
   "source": [
    "faxer = SmartMachine()\n",
    "faxer.print()\n",
    "faxer.copy()\n",
    "faxer.fax()"
   ]
  },
  {
   "cell_type": "markdown",
   "metadata": {},
   "source": [
    "한 인터페이스 안에 print, copy, fax 메소드를 모두 구현했다면 해당 메소드를 모두 필요로 하는 복합기 클래스가 아닌 print 메소드만 필요로 하는 인쇄기 클래스를 구현 시 error가 발생할 것이다. 이는 인쇄기 클래스가 print 메소드 이외의 메소드를 구현할 필요가 없기 때문이다. 그렇기 때문에 여러 인터페이스로 분리하여 각 인터페이스 당 하나의 책임을 갖도록 구현하여, 사용하지 않는 메소드에 영향을 받지 않게 하였다. 이는 인터페이스 분리의 원칙(ISP)를 만족한다고 볼 수 있다. "
   ]
  }
 ],
 "metadata": {
  "kernelspec": {
   "display_name": "Python 3",
   "language": "python",
   "name": "python3"
  },
  "language_info": {
   "codemirror_mode": {
    "name": "ipython",
    "version": 3
   },
   "file_extension": ".py",
   "mimetype": "text/x-python",
   "name": "python",
   "nbconvert_exporter": "python",
   "pygments_lexer": "ipython3",
   "version": "3.8.5"
  }
 },
 "nbformat": 4,
 "nbformat_minor": 2
}
