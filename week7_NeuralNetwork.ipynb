{
 "cells": [
  {
   "cell_type": "markdown",
   "metadata": {},
   "source": [
    "## Tobigs 7주차 Neural Network 심화 과제\n",
    "#### 15기 이윤정\n",
    "---"
   ]
  },
  {
   "cell_type": "code",
   "execution_count": 1,
   "metadata": {},
   "outputs": [],
   "source": [
    "import numpy as np\n",
    "import pandas as pd\n",
    "\n",
    "from sklearn.model_selection import train_test_split\n",
    "\n",
    "import matplotlib.pyplot as plt\n",
    "%matplotlib inline\n",
    "\n",
    "import tensorflow as tf\n",
    "from tensorflow import keras"
   ]
  },
  {
   "cell_type": "code",
   "execution_count": 2,
   "metadata": {
    "scrolled": true
   },
   "outputs": [
    {
     "data": {
      "text/plain": [
       "'2.4.1'"
      ]
     },
     "execution_count": 2,
     "metadata": {},
     "output_type": "execute_result"
    }
   ],
   "source": [
    "tf.__version__"
   ]
  },
  {
   "cell_type": "code",
   "execution_count": 3,
   "metadata": {},
   "outputs": [],
   "source": [
    "train = pd.read_csv('./train_df.csv')\n",
    "test = pd.read_csv('./test_df.csv')\n",
    "sample_submission = pd.read_csv('./sample_submission.csv')"
   ]
  },
  {
   "cell_type": "code",
   "execution_count": 4,
   "metadata": {},
   "outputs": [
    {
     "data": {
      "text/html": [
       "<div>\n",
       "<style scoped>\n",
       "    .dataframe tbody tr th:only-of-type {\n",
       "        vertical-align: middle;\n",
       "    }\n",
       "\n",
       "    .dataframe tbody tr th {\n",
       "        vertical-align: top;\n",
       "    }\n",
       "\n",
       "    .dataframe thead th {\n",
       "        text-align: right;\n",
       "    }\n",
       "</style>\n",
       "<table border=\"1\" class=\"dataframe\">\n",
       "  <thead>\n",
       "    <tr style=\"text-align: right;\">\n",
       "      <th></th>\n",
       "      <th>label</th>\n",
       "      <th>pixel0</th>\n",
       "      <th>pixel1</th>\n",
       "      <th>pixel2</th>\n",
       "      <th>pixel3</th>\n",
       "      <th>pixel4</th>\n",
       "      <th>pixel5</th>\n",
       "      <th>pixel6</th>\n",
       "      <th>pixel7</th>\n",
       "      <th>pixel8</th>\n",
       "      <th>...</th>\n",
       "      <th>pixel774</th>\n",
       "      <th>pixel775</th>\n",
       "      <th>pixel776</th>\n",
       "      <th>pixel777</th>\n",
       "      <th>pixel778</th>\n",
       "      <th>pixel779</th>\n",
       "      <th>pixel780</th>\n",
       "      <th>pixel781</th>\n",
       "      <th>pixel782</th>\n",
       "      <th>pixel783</th>\n",
       "    </tr>\n",
       "  </thead>\n",
       "  <tbody>\n",
       "    <tr>\n",
       "      <td>0</td>\n",
       "      <td>7</td>\n",
       "      <td>0</td>\n",
       "      <td>0</td>\n",
       "      <td>0</td>\n",
       "      <td>0</td>\n",
       "      <td>0</td>\n",
       "      <td>0</td>\n",
       "      <td>0</td>\n",
       "      <td>0</td>\n",
       "      <td>0</td>\n",
       "      <td>...</td>\n",
       "      <td>0</td>\n",
       "      <td>0</td>\n",
       "      <td>0</td>\n",
       "      <td>0</td>\n",
       "      <td>0</td>\n",
       "      <td>0</td>\n",
       "      <td>0</td>\n",
       "      <td>0</td>\n",
       "      <td>0</td>\n",
       "      <td>0</td>\n",
       "    </tr>\n",
       "    <tr>\n",
       "      <td>1</td>\n",
       "      <td>8</td>\n",
       "      <td>0</td>\n",
       "      <td>0</td>\n",
       "      <td>0</td>\n",
       "      <td>0</td>\n",
       "      <td>0</td>\n",
       "      <td>0</td>\n",
       "      <td>0</td>\n",
       "      <td>0</td>\n",
       "      <td>0</td>\n",
       "      <td>...</td>\n",
       "      <td>0</td>\n",
       "      <td>0</td>\n",
       "      <td>0</td>\n",
       "      <td>0</td>\n",
       "      <td>0</td>\n",
       "      <td>0</td>\n",
       "      <td>0</td>\n",
       "      <td>0</td>\n",
       "      <td>0</td>\n",
       "      <td>0</td>\n",
       "    </tr>\n",
       "    <tr>\n",
       "      <td>2</td>\n",
       "      <td>7</td>\n",
       "      <td>0</td>\n",
       "      <td>0</td>\n",
       "      <td>0</td>\n",
       "      <td>0</td>\n",
       "      <td>0</td>\n",
       "      <td>0</td>\n",
       "      <td>0</td>\n",
       "      <td>0</td>\n",
       "      <td>0</td>\n",
       "      <td>...</td>\n",
       "      <td>0</td>\n",
       "      <td>0</td>\n",
       "      <td>0</td>\n",
       "      <td>0</td>\n",
       "      <td>0</td>\n",
       "      <td>0</td>\n",
       "      <td>0</td>\n",
       "      <td>0</td>\n",
       "      <td>0</td>\n",
       "      <td>0</td>\n",
       "    </tr>\n",
       "    <tr>\n",
       "      <td>3</td>\n",
       "      <td>6</td>\n",
       "      <td>0</td>\n",
       "      <td>0</td>\n",
       "      <td>0</td>\n",
       "      <td>0</td>\n",
       "      <td>0</td>\n",
       "      <td>0</td>\n",
       "      <td>0</td>\n",
       "      <td>0</td>\n",
       "      <td>0</td>\n",
       "      <td>...</td>\n",
       "      <td>0</td>\n",
       "      <td>0</td>\n",
       "      <td>0</td>\n",
       "      <td>0</td>\n",
       "      <td>0</td>\n",
       "      <td>0</td>\n",
       "      <td>0</td>\n",
       "      <td>0</td>\n",
       "      <td>0</td>\n",
       "      <td>0</td>\n",
       "    </tr>\n",
       "    <tr>\n",
       "      <td>4</td>\n",
       "      <td>5</td>\n",
       "      <td>0</td>\n",
       "      <td>0</td>\n",
       "      <td>0</td>\n",
       "      <td>0</td>\n",
       "      <td>0</td>\n",
       "      <td>0</td>\n",
       "      <td>0</td>\n",
       "      <td>0</td>\n",
       "      <td>0</td>\n",
       "      <td>...</td>\n",
       "      <td>0</td>\n",
       "      <td>0</td>\n",
       "      <td>0</td>\n",
       "      <td>0</td>\n",
       "      <td>0</td>\n",
       "      <td>0</td>\n",
       "      <td>0</td>\n",
       "      <td>0</td>\n",
       "      <td>0</td>\n",
       "      <td>0</td>\n",
       "    </tr>\n",
       "    <tr>\n",
       "      <td>...</td>\n",
       "      <td>...</td>\n",
       "      <td>...</td>\n",
       "      <td>...</td>\n",
       "      <td>...</td>\n",
       "      <td>...</td>\n",
       "      <td>...</td>\n",
       "      <td>...</td>\n",
       "      <td>...</td>\n",
       "      <td>...</td>\n",
       "      <td>...</td>\n",
       "      <td>...</td>\n",
       "      <td>...</td>\n",
       "      <td>...</td>\n",
       "      <td>...</td>\n",
       "      <td>...</td>\n",
       "      <td>...</td>\n",
       "      <td>...</td>\n",
       "      <td>...</td>\n",
       "      <td>...</td>\n",
       "      <td>...</td>\n",
       "      <td>...</td>\n",
       "    </tr>\n",
       "    <tr>\n",
       "      <td>41995</td>\n",
       "      <td>9</td>\n",
       "      <td>0</td>\n",
       "      <td>0</td>\n",
       "      <td>0</td>\n",
       "      <td>0</td>\n",
       "      <td>0</td>\n",
       "      <td>0</td>\n",
       "      <td>0</td>\n",
       "      <td>0</td>\n",
       "      <td>0</td>\n",
       "      <td>...</td>\n",
       "      <td>0</td>\n",
       "      <td>0</td>\n",
       "      <td>0</td>\n",
       "      <td>0</td>\n",
       "      <td>0</td>\n",
       "      <td>0</td>\n",
       "      <td>0</td>\n",
       "      <td>0</td>\n",
       "      <td>0</td>\n",
       "      <td>0</td>\n",
       "    </tr>\n",
       "    <tr>\n",
       "      <td>41996</td>\n",
       "      <td>6</td>\n",
       "      <td>0</td>\n",
       "      <td>0</td>\n",
       "      <td>0</td>\n",
       "      <td>0</td>\n",
       "      <td>0</td>\n",
       "      <td>0</td>\n",
       "      <td>0</td>\n",
       "      <td>0</td>\n",
       "      <td>0</td>\n",
       "      <td>...</td>\n",
       "      <td>0</td>\n",
       "      <td>0</td>\n",
       "      <td>0</td>\n",
       "      <td>0</td>\n",
       "      <td>0</td>\n",
       "      <td>0</td>\n",
       "      <td>0</td>\n",
       "      <td>0</td>\n",
       "      <td>0</td>\n",
       "      <td>0</td>\n",
       "    </tr>\n",
       "    <tr>\n",
       "      <td>41997</td>\n",
       "      <td>9</td>\n",
       "      <td>0</td>\n",
       "      <td>0</td>\n",
       "      <td>0</td>\n",
       "      <td>0</td>\n",
       "      <td>0</td>\n",
       "      <td>0</td>\n",
       "      <td>0</td>\n",
       "      <td>0</td>\n",
       "      <td>0</td>\n",
       "      <td>...</td>\n",
       "      <td>0</td>\n",
       "      <td>0</td>\n",
       "      <td>0</td>\n",
       "      <td>0</td>\n",
       "      <td>0</td>\n",
       "      <td>0</td>\n",
       "      <td>0</td>\n",
       "      <td>0</td>\n",
       "      <td>0</td>\n",
       "      <td>0</td>\n",
       "    </tr>\n",
       "    <tr>\n",
       "      <td>41998</td>\n",
       "      <td>4</td>\n",
       "      <td>0</td>\n",
       "      <td>0</td>\n",
       "      <td>0</td>\n",
       "      <td>0</td>\n",
       "      <td>0</td>\n",
       "      <td>0</td>\n",
       "      <td>0</td>\n",
       "      <td>0</td>\n",
       "      <td>0</td>\n",
       "      <td>...</td>\n",
       "      <td>0</td>\n",
       "      <td>0</td>\n",
       "      <td>0</td>\n",
       "      <td>0</td>\n",
       "      <td>0</td>\n",
       "      <td>0</td>\n",
       "      <td>0</td>\n",
       "      <td>0</td>\n",
       "      <td>0</td>\n",
       "      <td>0</td>\n",
       "    </tr>\n",
       "    <tr>\n",
       "      <td>41999</td>\n",
       "      <td>3</td>\n",
       "      <td>0</td>\n",
       "      <td>0</td>\n",
       "      <td>0</td>\n",
       "      <td>0</td>\n",
       "      <td>0</td>\n",
       "      <td>0</td>\n",
       "      <td>0</td>\n",
       "      <td>0</td>\n",
       "      <td>0</td>\n",
       "      <td>...</td>\n",
       "      <td>0</td>\n",
       "      <td>0</td>\n",
       "      <td>0</td>\n",
       "      <td>0</td>\n",
       "      <td>0</td>\n",
       "      <td>0</td>\n",
       "      <td>0</td>\n",
       "      <td>0</td>\n",
       "      <td>0</td>\n",
       "      <td>0</td>\n",
       "    </tr>\n",
       "  </tbody>\n",
       "</table>\n",
       "<p>42000 rows × 785 columns</p>\n",
       "</div>"
      ],
      "text/plain": [
       "       label  pixel0  pixel1  pixel2  pixel3  pixel4  pixel5  pixel6  pixel7  \\\n",
       "0          7       0       0       0       0       0       0       0       0   \n",
       "1          8       0       0       0       0       0       0       0       0   \n",
       "2          7       0       0       0       0       0       0       0       0   \n",
       "3          6       0       0       0       0       0       0       0       0   \n",
       "4          5       0       0       0       0       0       0       0       0   \n",
       "...      ...     ...     ...     ...     ...     ...     ...     ...     ...   \n",
       "41995      9       0       0       0       0       0       0       0       0   \n",
       "41996      6       0       0       0       0       0       0       0       0   \n",
       "41997      9       0       0       0       0       0       0       0       0   \n",
       "41998      4       0       0       0       0       0       0       0       0   \n",
       "41999      3       0       0       0       0       0       0       0       0   \n",
       "\n",
       "       pixel8  ...  pixel774  pixel775  pixel776  pixel777  pixel778  \\\n",
       "0           0  ...         0         0         0         0         0   \n",
       "1           0  ...         0         0         0         0         0   \n",
       "2           0  ...         0         0         0         0         0   \n",
       "3           0  ...         0         0         0         0         0   \n",
       "4           0  ...         0         0         0         0         0   \n",
       "...       ...  ...       ...       ...       ...       ...       ...   \n",
       "41995       0  ...         0         0         0         0         0   \n",
       "41996       0  ...         0         0         0         0         0   \n",
       "41997       0  ...         0         0         0         0         0   \n",
       "41998       0  ...         0         0         0         0         0   \n",
       "41999       0  ...         0         0         0         0         0   \n",
       "\n",
       "       pixel779  pixel780  pixel781  pixel782  pixel783  \n",
       "0             0         0         0         0         0  \n",
       "1             0         0         0         0         0  \n",
       "2             0         0         0         0         0  \n",
       "3             0         0         0         0         0  \n",
       "4             0         0         0         0         0  \n",
       "...         ...       ...       ...       ...       ...  \n",
       "41995         0         0         0         0         0  \n",
       "41996         0         0         0         0         0  \n",
       "41997         0         0         0         0         0  \n",
       "41998         0         0         0         0         0  \n",
       "41999         0         0         0         0         0  \n",
       "\n",
       "[42000 rows x 785 columns]"
      ]
     },
     "execution_count": 4,
     "metadata": {},
     "output_type": "execute_result"
    }
   ],
   "source": [
    "train"
   ]
  },
  {
   "cell_type": "code",
   "execution_count": 5,
   "metadata": {},
   "outputs": [],
   "source": [
    "X_train = train.drop('label',axis = 1).values\n",
    "y_train = train['label'].values\n",
    "\n",
    "X_test = test.iloc[:,1:].values"
   ]
  },
  {
   "cell_type": "code",
   "execution_count": 6,
   "metadata": {},
   "outputs": [
    {
     "data": {
      "text/plain": [
       "((42000, 784), (42000,), (18000, 784))"
      ]
     },
     "execution_count": 6,
     "metadata": {},
     "output_type": "execute_result"
    }
   ],
   "source": [
    "X_train.shape, y_train.shape, X_test.shape"
   ]
  },
  {
   "cell_type": "code",
   "execution_count": 7,
   "metadata": {},
   "outputs": [
    {
     "data": {
      "text/plain": [
       "<Figure size 432x288 with 0 Axes>"
      ]
     },
     "metadata": {},
     "output_type": "display_data"
    },
    {
     "data": {
      "image/png": "[encoded data removed]",
      "text/plain": [
       "<Figure size 1152x576 with 15 Axes>"
      ]
     },
     "metadata": {
      "needs_background": "light"
     },
     "output_type": "display_data"
    }
   ],
   "source": [
    "# 데이터 형태 시각화\n",
    "\n",
    "rndperm = np.random.permutation(X_train.shape[0])\n",
    "feat_cols = train.drop('label', axis=1).columns\n",
    "\n",
    "# Plot the graph\n",
    "plt.gray()\n",
    "fig = plt.figure(figsize=(16,8))\n",
    "for i in range(0,15):\n",
    "    ax = fig.add_subplot(3,5,i+1, title=\"Digit: {}\".format(str(train.loc[rndperm[i],'label'])) )\n",
    "    ax.matshow(train.loc[rndperm[i],feat_cols].values.reshape((28,28)).astype(float))\n",
    "plt.show()"
   ]
  },
  {
   "cell_type": "code",
   "execution_count": 7,
   "metadata": {},
   "outputs": [
    {
     "name": "stdout",
     "output_type": "stream",
     "text": [
      "maximum value after scaling: 1.0 \n",
      "minimum value after scaling: 0.0\n"
     ]
    }
   ],
   "source": [
    "# scaling - 계산 과정 상 소수점의 형태로 나오기 때문에 소수점 윗 부분까지 계산하여 속도를 감소시킬 필요가 없기 때문!\n",
    "\n",
    "X_train, X_test = X_train/255.0, X_test/255.0\n",
    "\n",
    "print('maximum value after scaling:', X_train.max(),\n",
    "      '\\nminimum value after scaling:' ,X_train.min())"
   ]
  },
  {
   "cell_type": "code",
   "execution_count": 8,
   "metadata": {},
   "outputs": [
    {
     "name": "stdout",
     "output_type": "stream",
     "text": [
      "(33600, 784) (33600,)\n",
      "(8400, 784) (8400,)\n"
     ]
    }
   ],
   "source": [
    "# train test split\n",
    "X_train, X_val, y_train, y_val = train_test_split(X_train, y_train, test_size=0.2)\n",
    "\n",
    "print(X_train.shape, y_train.shape)\n",
    "print(X_val.shape, y_val.shape)"
   ]
  },
  {
   "cell_type": "markdown",
   "metadata": {},
   "source": [
    "### Modeling\n",
    "#### 1. optimizer = rmsprop로 변경"
   ]
  },
  {
   "cell_type": "code",
   "execution_count": 12,
   "metadata": {},
   "outputs": [],
   "source": [
    "#Sequential = model object - 순차적으로 레이어 층을 더해주는 모델(순차모델)\n",
    "#Dense 레이어 : 입출력을 모두 연결 + 입출력을 각각 연결해주는 가중치 포함\n",
    "#Dense 레이어에서 마지막 층이 아니고서야 활성화함수로 relu를 사용하는 편 (relu가 역전파를 통해 좋은 성능이 나오기 때문)\n",
    "\n",
    "model = tf.keras.models.Sequential([  \n",
    "    keras.layers.Dense(512, activation='relu'),\n",
    "    keras.layers.Dropout(0.3),\n",
    "    keras.layers.Dense(512, activation='relu'),\n",
    "    keras.layers.Dropout(0.2), \n",
    "    keras.layers.Dense(10, activation='softmax') #마지막 레이어의 노드 개수는 출력 데이터 y(lable)과 동일한 개수로 지정, 출력층\n",
    "])"
   ]
  },
  {
   "cell_type": "code",
   "execution_count": 13,
   "metadata": {},
   "outputs": [],
   "source": [
    "# loss : 손실함수 - 얼마나 입/출력 데이터가 일치하는 지 평가해주는 함수\n",
    "model.compile(loss=\"sparse_categorical_crossentropy\",\n",
    "              optimizer='rmsprop',\n",
    "              metrics=[\"accuracy\"])"
   ]
  },
  {
   "cell_type": "code",
   "execution_count": 16,
   "metadata": {},
   "outputs": [
    {
     "name": "stdout",
     "output_type": "stream",
     "text": [
      "Epoch 1/5\n",
      "336/336 [==============================] - 4s 11ms/step - loss: 0.3523 - accuracy: 0.8928\n",
      "Epoch 2/5\n",
      "336/336 [==============================] - 4s 11ms/step - loss: 0.0717 - accuracy: 0.9788\n",
      "Epoch 3/5\n",
      "336/336 [==============================] - 4s 12ms/step - loss: 0.0473 - accuracy: 0.9848\n",
      "Epoch 4/5\n",
      "336/336 [==============================] - 4s 13ms/step - loss: 0.0345 - accuracy: 0.9893\n",
      "Epoch 5/5\n",
      "336/336 [==============================] - 4s 12ms/step - loss: 0.0297 - accuracy: 0.9913\n",
      "263/263 [==============================] - 1s 2ms/step - loss: 0.0691 - accuracy: 0.9854\n"
     ]
    },
    {
     "data": {
      "text/plain": [
       "[0.06912656873464584, 0.9853571653366089]"
      ]
     },
     "execution_count": 16,
     "metadata": {},
     "output_type": "execute_result"
    }
   ],
   "source": [
    "model.fit(X_train, y_train, epochs=5, batch_size=100)\n",
    "model.evaluate(X_val, y_val)"
   ]
  },
  {
   "cell_type": "code",
   "execution_count": 17,
   "metadata": {},
   "outputs": [
    {
     "name": "stderr",
     "output_type": "stream",
     "text": [
      "C:\\ProgramData\\Anaconda3\\lib\\site-packages\\tensorflow\\python\\keras\\engine\\sequential.py:450: UserWarning: `model.predict_classes()` is deprecated and will be removed after 2021-01-01. Please use instead:* `np.argmax(model.predict(x), axis=-1)`,   if your model does multi-class classification   (e.g. if it uses a `softmax` last-layer activation).* `(model.predict(x) > 0.5).astype(\"int32\")`,   if your model does binary classification   (e.g. if it uses a `sigmoid` last-layer activation).\n",
      "  warnings.warn('`model.predict_classes()` is deprecated and '\n"
     ]
    },
    {
     "data": {
      "text/html": [
       "<div>\n",
       "<style scoped>\n",
       "    .dataframe tbody tr th:only-of-type {\n",
       "        vertical-align: middle;\n",
       "    }\n",
       "\n",
       "    .dataframe tbody tr th {\n",
       "        vertical-align: top;\n",
       "    }\n",
       "\n",
       "    .dataframe thead th {\n",
       "        text-align: right;\n",
       "    }\n",
       "</style>\n",
       "<table border=\"1\" class=\"dataframe\">\n",
       "  <thead>\n",
       "    <tr style=\"text-align: right;\">\n",
       "      <th></th>\n",
       "      <th>Id</th>\n",
       "      <th>Category</th>\n",
       "    </tr>\n",
       "  </thead>\n",
       "  <tbody>\n",
       "    <tr>\n",
       "      <td>0</td>\n",
       "      <td>57808</td>\n",
       "      <td>8</td>\n",
       "    </tr>\n",
       "    <tr>\n",
       "      <td>1</td>\n",
       "      <td>4960</td>\n",
       "      <td>0</td>\n",
       "    </tr>\n",
       "    <tr>\n",
       "      <td>2</td>\n",
       "      <td>35755</td>\n",
       "      <td>5</td>\n",
       "    </tr>\n",
       "    <tr>\n",
       "      <td>3</td>\n",
       "      <td>15543</td>\n",
       "      <td>3</td>\n",
       "    </tr>\n",
       "    <tr>\n",
       "      <td>4</td>\n",
       "      <td>48968</td>\n",
       "      <td>8</td>\n",
       "    </tr>\n",
       "  </tbody>\n",
       "</table>\n",
       "</div>"
      ],
      "text/plain": [
       "      Id  Category\n",
       "0  57808         8\n",
       "1   4960         0\n",
       "2  35755         5\n",
       "3  15543         3\n",
       "4  48968         8"
      ]
     },
     "execution_count": 17,
     "metadata": {},
     "output_type": "execute_result"
    }
   ],
   "source": [
    "predictions = model.predict_classes(X_test)\n",
    "\n",
    "sample_submission['Category'] = pd.Series(predictions)\n",
    "sample_submission.head()"
   ]
  },
  {
   "cell_type": "code",
   "execution_count": 18,
   "metadata": {},
   "outputs": [],
   "source": [
    "sample_submission.to_csv(\"submission.csv\",index=False)"
   ]
  },
  {
   "cell_type": "markdown",
   "metadata": {},
   "source": [
    "LeaderBoard Score : 0.98411"
   ]
  },
  {
   "cell_type": "markdown",
   "metadata": {},
   "source": [
    "#### 2. Dropout 대신 Batch Normalization 사용"
   ]
  },
  {
   "cell_type": "code",
   "execution_count": 19,
   "metadata": {},
   "outputs": [
    {
     "name": "stdout",
     "output_type": "stream",
     "text": [
      "Epoch 1/5\n",
      "336/336 [==============================] - 5s 11ms/step - loss: 0.2481 - accuracy: 0.9230\n",
      "Epoch 2/5\n",
      "336/336 [==============================] - 4s 11ms/step - loss: 0.0444 - accuracy: 0.9863\n",
      "Epoch 3/5\n",
      "336/336 [==============================] - 4s 12ms/step - loss: 0.0252 - accuracy: 0.9918\n",
      "Epoch 4/5\n",
      "336/336 [==============================] - 5s 14ms/step - loss: 0.0135 - accuracy: 0.9962\n",
      "Epoch 5/5\n",
      "336/336 [==============================] - 4s 12ms/step - loss: 0.0125 - accuracy: 0.9962\n",
      "263/263 [==============================] - 1s 3ms/step - loss: 0.0758 - accuracy: 0.9844\n"
     ]
    },
    {
     "data": {
      "text/plain": [
       "[0.0757758766412735, 0.9844047427177429]"
      ]
     },
     "execution_count": 19,
     "metadata": {},
     "output_type": "execute_result"
    }
   ],
   "source": [
    "#BatchNormalization() : 배치정규화 - 은닉층의 활성화 함수 전이나 후에 추가가능\n",
    "\n",
    "model = tf.keras.models.Sequential([  \n",
    "    keras.layers.Dense(512, activation='relu'),\n",
    "    keras.layers.BatchNormalization(), #활성화 함수 이후 추가\n",
    "    keras.layers.Dense(512, activation='relu'),\n",
    "    keras.layers.BatchNormalization(), #활성화 함수 이후 추가\n",
    "    keras.layers.Dense(10, activation='softmax')\n",
    "])\n",
    "\n",
    "model.compile(loss=\"sparse_categorical_crossentropy\",\n",
    "              optimizer='rmsprop',\n",
    "              metrics=[\"accuracy\"])\n",
    "\n",
    "model.fit(X_train, y_train, epochs=5, batch_size=100)\n",
    "model.evaluate(X_val, y_val)"
   ]
  },
  {
   "cell_type": "code",
   "execution_count": 20,
   "metadata": {},
   "outputs": [
    {
     "data": {
      "text/html": [
       "<div>\n",
       "<style scoped>\n",
       "    .dataframe tbody tr th:only-of-type {\n",
       "        vertical-align: middle;\n",
       "    }\n",
       "\n",
       "    .dataframe tbody tr th {\n",
       "        vertical-align: top;\n",
       "    }\n",
       "\n",
       "    .dataframe thead th {\n",
       "        text-align: right;\n",
       "    }\n",
       "</style>\n",
       "<table border=\"1\" class=\"dataframe\">\n",
       "  <thead>\n",
       "    <tr style=\"text-align: right;\">\n",
       "      <th></th>\n",
       "      <th>Id</th>\n",
       "      <th>Category</th>\n",
       "    </tr>\n",
       "  </thead>\n",
       "  <tbody>\n",
       "    <tr>\n",
       "      <td>0</td>\n",
       "      <td>57808</td>\n",
       "      <td>8</td>\n",
       "    </tr>\n",
       "    <tr>\n",
       "      <td>1</td>\n",
       "      <td>4960</td>\n",
       "      <td>0</td>\n",
       "    </tr>\n",
       "    <tr>\n",
       "      <td>2</td>\n",
       "      <td>35755</td>\n",
       "      <td>5</td>\n",
       "    </tr>\n",
       "    <tr>\n",
       "      <td>3</td>\n",
       "      <td>15543</td>\n",
       "      <td>3</td>\n",
       "    </tr>\n",
       "    <tr>\n",
       "      <td>4</td>\n",
       "      <td>48968</td>\n",
       "      <td>8</td>\n",
       "    </tr>\n",
       "  </tbody>\n",
       "</table>\n",
       "</div>"
      ],
      "text/plain": [
       "      Id  Category\n",
       "0  57808         8\n",
       "1   4960         0\n",
       "2  35755         5\n",
       "3  15543         3\n",
       "4  48968         8"
      ]
     },
     "execution_count": 20,
     "metadata": {},
     "output_type": "execute_result"
    }
   ],
   "source": [
    "predictions = model.predict_classes(X_test)\n",
    "\n",
    "sample_submission['Category'] = pd.Series(predictions)\n",
    "sample_submission.head()"
   ]
  },
  {
   "cell_type": "code",
   "execution_count": 21,
   "metadata": {},
   "outputs": [],
   "source": [
    "sample_submission.to_csv(\"submission.csv\",index=False)"
   ]
  },
  {
   "cell_type": "markdown",
   "metadata": {},
   "source": [
    "LeaderBoard Score : 0.98455\n",
    "소폭 상승했다!"
   ]
  },
  {
   "cell_type": "markdown",
   "metadata": {},
   "source": [
    "#### 3. 은닉층의 활성화함수로 sigmoid 사용"
   ]
  },
  {
   "cell_type": "code",
   "execution_count": 22,
   "metadata": {},
   "outputs": [
    {
     "name": "stdout",
     "output_type": "stream",
     "text": [
      "Epoch 1/5\n",
      "336/336 [==============================] - 5s 12ms/step - loss: 0.2869 - accuracy: 0.9156\n",
      "Epoch 2/5\n",
      "336/336 [==============================] - 3s 10ms/step - loss: 0.0569 - accuracy: 0.9817\n",
      "Epoch 3/5\n",
      "336/336 [==============================] - 4s 11ms/step - loss: 0.0291 - accuracy: 0.9903\n",
      "Epoch 4/5\n",
      "336/336 [==============================] - 4s 11ms/step - loss: 0.0212 - accuracy: 0.9936\n",
      "Epoch 5/5\n",
      "336/336 [==============================] - 3s 10ms/step - loss: 0.0151 - accuracy: 0.9955\n",
      "263/263 [==============================] - 1s 2ms/step - loss: 0.0722 - accuracy: 0.9861\n"
     ]
    },
    {
     "data": {
      "text/plain": [
       "[0.07219624519348145, 0.9860714077949524]"
      ]
     },
     "execution_count": 22,
     "metadata": {},
     "output_type": "execute_result"
    }
   ],
   "source": [
    "#BatchNormalization() : 배치정규화 - 은닉층의 활성화 함수 전이나 후에 추가가능\n",
    "\n",
    "model = tf.keras.models.Sequential([  \n",
    "    keras.layers.Dense(512, activation='relu'),\n",
    "    keras.layers.BatchNormalization(), #활성화 함수 이후 추가\n",
    "    keras.layers.Dense(512, activation='sigmoid'),\n",
    "    keras.layers.BatchNormalization(), #활성화 함수 이후 추가\n",
    "    keras.layers.Dense(10, activation='softmax')\n",
    "])\n",
    "\n",
    "model.compile(loss=\"sparse_categorical_crossentropy\",\n",
    "              optimizer='rmsprop',\n",
    "              metrics=[\"accuracy\"])\n",
    "\n",
    "model.fit(X_train, y_train, epochs=5, batch_size=100)\n",
    "model.evaluate(X_val, y_val)"
   ]
  },
  {
   "cell_type": "code",
   "execution_count": 23,
   "metadata": {},
   "outputs": [
    {
     "data": {
      "text/html": [
       "<div>\n",
       "<style scoped>\n",
       "    .dataframe tbody tr th:only-of-type {\n",
       "        vertical-align: middle;\n",
       "    }\n",
       "\n",
       "    .dataframe tbody tr th {\n",
       "        vertical-align: top;\n",
       "    }\n",
       "\n",
       "    .dataframe thead th {\n",
       "        text-align: right;\n",
       "    }\n",
       "</style>\n",
       "<table border=\"1\" class=\"dataframe\">\n",
       "  <thead>\n",
       "    <tr style=\"text-align: right;\">\n",
       "      <th></th>\n",
       "      <th>Id</th>\n",
       "      <th>Category</th>\n",
       "    </tr>\n",
       "  </thead>\n",
       "  <tbody>\n",
       "    <tr>\n",
       "      <td>0</td>\n",
       "      <td>57808</td>\n",
       "      <td>8</td>\n",
       "    </tr>\n",
       "    <tr>\n",
       "      <td>1</td>\n",
       "      <td>4960</td>\n",
       "      <td>0</td>\n",
       "    </tr>\n",
       "    <tr>\n",
       "      <td>2</td>\n",
       "      <td>35755</td>\n",
       "      <td>5</td>\n",
       "    </tr>\n",
       "    <tr>\n",
       "      <td>3</td>\n",
       "      <td>15543</td>\n",
       "      <td>3</td>\n",
       "    </tr>\n",
       "    <tr>\n",
       "      <td>4</td>\n",
       "      <td>48968</td>\n",
       "      <td>8</td>\n",
       "    </tr>\n",
       "  </tbody>\n",
       "</table>\n",
       "</div>"
      ],
      "text/plain": [
       "      Id  Category\n",
       "0  57808         8\n",
       "1   4960         0\n",
       "2  35755         5\n",
       "3  15543         3\n",
       "4  48968         8"
      ]
     },
     "execution_count": 23,
     "metadata": {},
     "output_type": "execute_result"
    }
   ],
   "source": [
    "predictions = model.predict_classes(X_test)\n",
    "\n",
    "sample_submission['Category'] = pd.Series(predictions)\n",
    "sample_submission.head()"
   ]
  },
  {
   "cell_type": "code",
   "execution_count": 24,
   "metadata": {},
   "outputs": [],
   "source": [
    "sample_submission.to_csv(\"submission.csv\",index=False)"
   ]
  },
  {
   "cell_type": "markdown",
   "metadata": {},
   "source": [
    "LeaderBoard Score : 0.98483 소폭 상승했다!"
   ]
  },
  {
   "cell_type": "markdown",
   "metadata": {},
   "source": [
    "#### 4. 은닉층 추가"
   ]
  },
  {
   "cell_type": "code",
   "execution_count": 30,
   "metadata": {},
   "outputs": [
    {
     "name": "stdout",
     "output_type": "stream",
     "text": [
      "Epoch 1/5\n",
      "336/336 [==============================] - 7s 16ms/step - loss: 0.2825 - accuracy: 0.9172\n",
      "Epoch 2/5\n",
      "336/336 [==============================] - 5s 14ms/step - loss: 0.0606 - accuracy: 0.9813\n",
      "Epoch 3/5\n",
      "336/336 [==============================] - 5s 14ms/step - loss: 0.0348 - accuracy: 0.9900\n",
      "Epoch 4/5\n",
      "336/336 [==============================] - 5s 15ms/step - loss: 0.0234 - accuracy: 0.9933\n",
      "Epoch 5/5\n",
      "336/336 [==============================] - 5s 16ms/step - loss: 0.0159 - accuracy: 0.9941\n",
      "263/263 [==============================] - 1s 3ms/step - loss: 0.0809 - accuracy: 0.9812\n"
     ]
    },
    {
     "data": {
      "text/plain": [
       "[0.0809178426861763, 0.9811905026435852]"
      ]
     },
     "execution_count": 30,
     "metadata": {},
     "output_type": "execute_result"
    }
   ],
   "source": [
    "#BatchNormalization() : 배치정규화 - 은닉층의 활성화 함수 전이나 후에 추가가능\n",
    "\n",
    "model = tf.keras.models.Sequential([  \n",
    "    keras.layers.Dense(512, activation='relu'),\n",
    "    keras.layers.BatchNormalization(), #활성화 함수 이후 추가\n",
    "    keras.layers.Dense(512, activation='relu'),    \n",
    "    keras.layers.BatchNormalization(), #활성화 함수 이후 추가\n",
    "    keras.layers.Dense(384, activation='sigmoid'),\n",
    "    keras.layers.BatchNormalization(), #활성화 함수 이후 추가\n",
    "    keras.layers.Dense(10, activation='softmax')\n",
    "])\n",
    "\n",
    "model.compile(loss=\"sparse_categorical_crossentropy\",\n",
    "              optimizer='rmsprop',\n",
    "              metrics=[\"accuracy\"])\n",
    "\n",
    "model.fit(X_train, y_train, epochs=5, batch_size=100)\n",
    "model.evaluate(X_val, y_val)"
   ]
  },
  {
   "cell_type": "code",
   "execution_count": 32,
   "metadata": {},
   "outputs": [
    {
     "data": {
      "text/html": [
       "<div>\n",
       "<style scoped>\n",
       "    .dataframe tbody tr th:only-of-type {\n",
       "        vertical-align: middle;\n",
       "    }\n",
       "\n",
       "    .dataframe tbody tr th {\n",
       "        vertical-align: top;\n",
       "    }\n",
       "\n",
       "    .dataframe thead th {\n",
       "        text-align: right;\n",
       "    }\n",
       "</style>\n",
       "<table border=\"1\" class=\"dataframe\">\n",
       "  <thead>\n",
       "    <tr style=\"text-align: right;\">\n",
       "      <th></th>\n",
       "      <th>Id</th>\n",
       "      <th>Category</th>\n",
       "    </tr>\n",
       "  </thead>\n",
       "  <tbody>\n",
       "    <tr>\n",
       "      <td>0</td>\n",
       "      <td>57808</td>\n",
       "      <td>8</td>\n",
       "    </tr>\n",
       "    <tr>\n",
       "      <td>1</td>\n",
       "      <td>4960</td>\n",
       "      <td>0</td>\n",
       "    </tr>\n",
       "    <tr>\n",
       "      <td>2</td>\n",
       "      <td>35755</td>\n",
       "      <td>5</td>\n",
       "    </tr>\n",
       "    <tr>\n",
       "      <td>3</td>\n",
       "      <td>15543</td>\n",
       "      <td>3</td>\n",
       "    </tr>\n",
       "    <tr>\n",
       "      <td>4</td>\n",
       "      <td>48968</td>\n",
       "      <td>8</td>\n",
       "    </tr>\n",
       "  </tbody>\n",
       "</table>\n",
       "</div>"
      ],
      "text/plain": [
       "      Id  Category\n",
       "0  57808         8\n",
       "1   4960         0\n",
       "2  35755         5\n",
       "3  15543         3\n",
       "4  48968         8"
      ]
     },
     "execution_count": 32,
     "metadata": {},
     "output_type": "execute_result"
    }
   ],
   "source": [
    "predictions = model.predict_classes(X_test)\n",
    "\n",
    "sample_submission['Category'] = pd.Series(predictions)\n",
    "sample_submission.head()"
   ]
  },
  {
   "cell_type": "code",
   "execution_count": 33,
   "metadata": {},
   "outputs": [],
   "source": [
    "sample_submission.to_csv(\"submission.csv\",index=False)"
   ]
  },
  {
   "cell_type": "markdown",
   "metadata": {},
   "source": [
    "LeaderBoard Score : 0.98322로 감소했다."
   ]
  },
  {
   "cell_type": "markdown",
   "metadata": {},
   "source": [
    "#### 5. epoch, batch_size 증가"
   ]
  },
  {
   "cell_type": "code",
   "execution_count": 34,
   "metadata": {},
   "outputs": [
    {
     "name": "stdout",
     "output_type": "stream",
     "text": [
      "Epoch 1/20\n",
      "168/168 [==============================] - 3s 16ms/step - loss: 0.2996 - accuracy: 0.9101\n",
      "Epoch 2/20\n",
      "168/168 [==============================] - 3s 15ms/step - loss: 0.0536 - accuracy: 0.9835\n",
      "Epoch 3/20\n",
      "168/168 [==============================] - 3s 16ms/step - loss: 0.0285 - accuracy: 0.9911\n",
      "Epoch 4/20\n",
      "168/168 [==============================] - 3s 17ms/step - loss: 0.0148 - accuracy: 0.9950\n",
      "Epoch 5/20\n",
      "168/168 [==============================] - 3s 16ms/step - loss: 0.0101 - accuracy: 0.9972\n",
      "Epoch 6/20\n",
      "168/168 [==============================] - 3s 16ms/step - loss: 0.0058 - accuracy: 0.9983\n",
      "Epoch 7/20\n",
      "168/168 [==============================] - 3s 16ms/step - loss: 0.0057 - accuracy: 0.9983\n",
      "Epoch 8/20\n",
      "168/168 [==============================] - 3s 17ms/step - loss: 0.0045 - accuracy: 0.9989\n",
      "Epoch 9/20\n",
      "168/168 [==============================] - 3s 16ms/step - loss: 0.0025 - accuracy: 0.9991\n",
      "Epoch 10/20\n",
      "168/168 [==============================] - 3s 17ms/step - loss: 0.0042 - accuracy: 0.9989\n",
      "Epoch 11/20\n",
      "168/168 [==============================] - 3s 16ms/step - loss: 0.0019 - accuracy: 0.9994\n",
      "Epoch 12/20\n",
      "168/168 [==============================] - 3s 16ms/step - loss: 0.0032 - accuracy: 0.9991\n",
      "Epoch 13/20\n",
      "168/168 [==============================] - 3s 17ms/step - loss: 0.0020 - accuracy: 0.9994\n",
      "Epoch 14/20\n",
      "168/168 [==============================] - 3s 17ms/step - loss: 0.0017 - accuracy: 0.9994\n",
      "Epoch 15/20\n",
      "168/168 [==============================] - 3s 18ms/step - loss: 0.0029 - accuracy: 0.9989\n",
      "Epoch 16/20\n",
      "168/168 [==============================] - 3s 18ms/step - loss: 0.0038 - accuracy: 0.9990\n",
      "Epoch 17/20\n",
      "168/168 [==============================] - 3s 17ms/step - loss: 0.0025 - accuracy: 0.9991\n",
      "Epoch 18/20\n",
      "168/168 [==============================] - 3s 17ms/step - loss: 0.0036 - accuracy: 0.9988\n",
      "Epoch 19/20\n",
      "168/168 [==============================] - 3s 18ms/step - loss: 0.0013 - accuracy: 0.9996\n",
      "Epoch 20/20\n",
      "168/168 [==============================] - 3s 17ms/step - loss: 0.0023 - accuracy: 0.9989\n",
      "263/263 [==============================] - 1s 2ms/step - loss: 0.1117 - accuracy: 0.9848\n"
     ]
    },
    {
     "data": {
      "text/plain": [
       "[0.11166539788246155, 0.9847618937492371]"
      ]
     },
     "execution_count": 34,
     "metadata": {},
     "output_type": "execute_result"
    }
   ],
   "source": [
    "#BatchNormalization() : 배치정규화 - 은닉층의 활성화 함수 전이나 후에 추가가능\n",
    "\n",
    "model = tf.keras.models.Sequential([  \n",
    "    keras.layers.Dense(512, activation='relu'),\n",
    "    keras.layers.BatchNormalization(), #활성화 함수 이후 추가\n",
    "    keras.layers.Dense(512, activation='sigmoid'),\n",
    "    keras.layers.BatchNormalization(), #활성화 함수 이후 추가\n",
    "    keras.layers.Dense(10, activation='softmax')\n",
    "])\n",
    "\n",
    "model.compile(loss=\"sparse_categorical_crossentropy\",\n",
    "              optimizer='rmsprop',\n",
    "              metrics=[\"accuracy\"])\n",
    "\n",
    "# epochs : 학습시키는 크기 - 100묶음씩 10번 학습\n",
    "# batch_size : 학습시킬 때 묶음, 샘플 수\n",
    "\n",
    "model.fit(X_train, y_train, epochs=20, batch_size=200)\n",
    "model.evaluate(X_val, y_val)"
   ]
  },
  {
   "cell_type": "code",
   "execution_count": 35,
   "metadata": {},
   "outputs": [
    {
     "data": {
      "text/html": [
       "<div>\n",
       "<style scoped>\n",
       "    .dataframe tbody tr th:only-of-type {\n",
       "        vertical-align: middle;\n",
       "    }\n",
       "\n",
       "    .dataframe tbody tr th {\n",
       "        vertical-align: top;\n",
       "    }\n",
       "\n",
       "    .dataframe thead th {\n",
       "        text-align: right;\n",
       "    }\n",
       "</style>\n",
       "<table border=\"1\" class=\"dataframe\">\n",
       "  <thead>\n",
       "    <tr style=\"text-align: right;\">\n",
       "      <th></th>\n",
       "      <th>Id</th>\n",
       "      <th>Category</th>\n",
       "    </tr>\n",
       "  </thead>\n",
       "  <tbody>\n",
       "    <tr>\n",
       "      <td>0</td>\n",
       "      <td>57808</td>\n",
       "      <td>8</td>\n",
       "    </tr>\n",
       "    <tr>\n",
       "      <td>1</td>\n",
       "      <td>4960</td>\n",
       "      <td>0</td>\n",
       "    </tr>\n",
       "    <tr>\n",
       "      <td>2</td>\n",
       "      <td>35755</td>\n",
       "      <td>5</td>\n",
       "    </tr>\n",
       "    <tr>\n",
       "      <td>3</td>\n",
       "      <td>15543</td>\n",
       "      <td>3</td>\n",
       "    </tr>\n",
       "    <tr>\n",
       "      <td>4</td>\n",
       "      <td>48968</td>\n",
       "      <td>8</td>\n",
       "    </tr>\n",
       "  </tbody>\n",
       "</table>\n",
       "</div>"
      ],
      "text/plain": [
       "      Id  Category\n",
       "0  57808         8\n",
       "1   4960         0\n",
       "2  35755         5\n",
       "3  15543         3\n",
       "4  48968         8"
      ]
     },
     "execution_count": 35,
     "metadata": {},
     "output_type": "execute_result"
    }
   ],
   "source": [
    "predictions = model.predict_classes(X_test)\n",
    "\n",
    "sample_submission['Category'] = pd.Series(predictions)\n",
    "sample_submission.head()"
   ]
  },
  {
   "cell_type": "code",
   "execution_count": 36,
   "metadata": {},
   "outputs": [],
   "source": [
    "sample_submission.to_csv(\"submission.csv\",index=False)"
   ]
  },
  {
   "cell_type": "markdown",
   "metadata": {},
   "source": [
    "LeaderBoard Score : 0.98383로 감소했다."
   ]
  },
  {
   "cell_type": "markdown",
   "metadata": {},
   "source": [
    "#### 6. regularization L2"
   ]
  },
  {
   "cell_type": "code",
   "execution_count": 39,
   "metadata": {},
   "outputs": [
    {
     "name": "stdout",
     "output_type": "stream",
     "text": [
      "Epoch 1/5\n",
      "336/336 [==============================] - 5s 12ms/step - loss: 2.1391 - accuracy: 0.9136 0s - loss: 2.2219 - accura\n",
      "Epoch 2/5\n",
      "336/336 [==============================] - 4s 12ms/step - loss: 0.1294 - accuracy: 0.9752\n",
      "Epoch 3/5\n",
      "336/336 [==============================] - 4s 12ms/step - loss: 0.0978 - accuracy: 0.9825\n",
      "Epoch 4/5\n",
      "336/336 [==============================] - 4s 12ms/step - loss: 0.0767 - accuracy: 0.9870\n",
      "Epoch 5/5\n",
      "336/336 [==============================] - 4s 12ms/step - loss: 0.0625 - accuracy: 0.9897\n",
      "263/263 [==============================] - 1s 3ms/step - loss: 0.0949 - accuracy: 0.9807\n"
     ]
    },
    {
     "data": {
      "text/plain": [
       "[0.09485787898302078, 0.9807142615318298]"
      ]
     },
     "execution_count": 39,
     "metadata": {},
     "output_type": "execute_result"
    }
   ],
   "source": [
    "from tensorflow.keras.regularizers import l2\n",
    "\n",
    "#BatchNormalization() : 배치정규화 - 은닉층의 활성화 함수 전이나 후에 추가가능\n",
    "\n",
    "model = tf.keras.models.Sequential([  \n",
    "    keras.layers.Dense(512, activation='relu'),\n",
    "    keras.layers.Dense(512, activation='sigmoid', kernel_regularizer=l2(0.01)),\n",
    "    keras.layers.BatchNormalization(), #활성화 함수 이후 추가\n",
    "    keras.layers.Dense(10, activation='softmax')\n",
    "])\n",
    "\n",
    "model.compile(loss=\"sparse_categorical_crossentropy\",\n",
    "              optimizer='rmsprop',\n",
    "              metrics=[\"accuracy\"])\n",
    "\n",
    "# epochs : 학습시키는 크기 - 100묶음씩 10번 학습\n",
    "# batch_size : 학습시킬 때 묶음, 샘플 수\n",
    "\n",
    "model.fit(X_train, y_train, epochs=5, batch_size=100)\n",
    "model.evaluate(X_val, y_val)"
   ]
  },
  {
   "cell_type": "code",
   "execution_count": 40,
   "metadata": {},
   "outputs": [
    {
     "name": "stderr",
     "output_type": "stream",
     "text": [
      "C:\\ProgramData\\Anaconda3\\lib\\site-packages\\tensorflow\\python\\keras\\engine\\sequential.py:450: UserWarning: `model.predict_classes()` is deprecated and will be removed after 2021-01-01. Please use instead:* `np.argmax(model.predict(x), axis=-1)`,   if your model does multi-class classification   (e.g. if it uses a `softmax` last-layer activation).* `(model.predict(x) > 0.5).astype(\"int32\")`,   if your model does binary classification   (e.g. if it uses a `sigmoid` last-layer activation).\n",
      "  warnings.warn('`model.predict_classes()` is deprecated and '\n"
     ]
    },
    {
     "data": {
      "text/html": [
       "<div>\n",
       "<style scoped>\n",
       "    .dataframe tbody tr th:only-of-type {\n",
       "        vertical-align: middle;\n",
       "    }\n",
       "\n",
       "    .dataframe tbody tr th {\n",
       "        vertical-align: top;\n",
       "    }\n",
       "\n",
       "    .dataframe thead th {\n",
       "        text-align: right;\n",
       "    }\n",
       "</style>\n",
       "<table border=\"1\" class=\"dataframe\">\n",
       "  <thead>\n",
       "    <tr style=\"text-align: right;\">\n",
       "      <th></th>\n",
       "      <th>Id</th>\n",
       "      <th>Category</th>\n",
       "    </tr>\n",
       "  </thead>\n",
       "  <tbody>\n",
       "    <tr>\n",
       "      <td>0</td>\n",
       "      <td>57808</td>\n",
       "      <td>8</td>\n",
       "    </tr>\n",
       "    <tr>\n",
       "      <td>1</td>\n",
       "      <td>4960</td>\n",
       "      <td>0</td>\n",
       "    </tr>\n",
       "    <tr>\n",
       "      <td>2</td>\n",
       "      <td>35755</td>\n",
       "      <td>5</td>\n",
       "    </tr>\n",
       "    <tr>\n",
       "      <td>3</td>\n",
       "      <td>15543</td>\n",
       "      <td>3</td>\n",
       "    </tr>\n",
       "    <tr>\n",
       "      <td>4</td>\n",
       "      <td>48968</td>\n",
       "      <td>8</td>\n",
       "    </tr>\n",
       "  </tbody>\n",
       "</table>\n",
       "</div>"
      ],
      "text/plain": [
       "      Id  Category\n",
       "0  57808         8\n",
       "1   4960         0\n",
       "2  35755         5\n",
       "3  15543         3\n",
       "4  48968         8"
      ]
     },
     "execution_count": 40,
     "metadata": {},
     "output_type": "execute_result"
    }
   ],
   "source": [
    "predictions = model.predict_classes(X_test)\n",
    "\n",
    "sample_submission['Category'] = pd.Series(predictions)\n",
    "sample_submission.head()"
   ]
  },
  {
   "cell_type": "code",
   "execution_count": 41,
   "metadata": {},
   "outputs": [],
   "source": [
    "sample_submission.to_csv(\"submission.csv\",index=False)"
   ]
  },
  {
   "cell_type": "markdown",
   "metadata": {},
   "source": [
    "LeaderBoard Score : 0.98200으로 감소했다."
   ]
  },
  {
   "cell_type": "markdown",
   "metadata": {},
   "source": [
    "#### 7. 은닉층/epochs 증가 + optimizer 변경"
   ]
  },
  {
   "cell_type": "code",
   "execution_count": 27,
   "metadata": {
    "scrolled": true
   },
   "outputs": [
    {
     "name": "stdout",
     "output_type": "stream",
     "text": [
      "Epoch 1/50\n",
      "336/336 [==============================] - 3s 7ms/step - loss: 0.3865 - accuracy: 0.8872\n",
      "Epoch 2/50\n",
      "336/336 [==============================] - 2s 7ms/step - loss: 0.0483 - accuracy: 0.9861\n",
      "Epoch 3/50\n",
      "336/336 [==============================] - 2s 7ms/step - loss: 0.0283 - accuracy: 0.9917\n",
      "Epoch 4/50\n",
      "336/336 [==============================] - 2s 7ms/step - loss: 0.0203 - accuracy: 0.9933\n",
      "Epoch 5/50\n",
      "336/336 [==============================] - 2s 7ms/step - loss: 0.0183 - accuracy: 0.9940\n",
      "Epoch 6/50\n",
      "336/336 [==============================] - 2s 6ms/step - loss: 0.0186 - accuracy: 0.9939\n",
      "Epoch 7/50\n",
      "336/336 [==============================] - 3s 8ms/step - loss: 0.0153 - accuracy: 0.9955\n",
      "Epoch 8/50\n",
      "336/336 [==============================] - 2s 7ms/step - loss: 0.0120 - accuracy: 0.9965: 1s -\n",
      "Epoch 9/50\n",
      "336/336 [==============================] - 2s 7ms/step - loss: 0.0145 - accuracy: 0.9955\n",
      "Epoch 10/50\n",
      "336/336 [==============================] - 2s 6ms/step - loss: 0.0108 - accuracy: 0.9965\n",
      "Epoch 11/50\n",
      "336/336 [==============================] - 2s 6ms/step - loss: 0.0088 - accuracy: 0.9975\n",
      "Epoch 12/50\n",
      "336/336 [==============================] - 2s 6ms/step - loss: 0.0122 - accuracy: 0.9966\n",
      "Epoch 13/50\n",
      "336/336 [==============================] - 2s 7ms/step - loss: 0.0100 - accuracy: 0.9969\n",
      "Epoch 14/50\n",
      "336/336 [==============================] - 2s 6ms/step - loss: 0.0094 - accuracy: 0.9969\n",
      "Epoch 15/50\n",
      "336/336 [==============================] - 2s 7ms/step - loss: 0.0085 - accuracy: 0.9971\n",
      "Epoch 16/50\n",
      "336/336 [==============================] - 2s 7ms/step - loss: 0.0084 - accuracy: 0.9975\n",
      "Epoch 17/50\n",
      "336/336 [==============================] - 2s 7ms/step - loss: 0.0075 - accuracy: 0.9973\n",
      "Epoch 18/50\n",
      "336/336 [==============================] - 2s 7ms/step - loss: 0.0101 - accuracy: 0.9963\n",
      "Epoch 19/50\n",
      "336/336 [==============================] - 3s 8ms/step - loss: 0.0028 - accuracy: 0.9992\n",
      "Epoch 20/50\n",
      "336/336 [==============================] - 3s 8ms/step - loss: 0.0056 - accuracy: 0.9980\n",
      "Epoch 21/50\n",
      "336/336 [==============================] - 3s 8ms/step - loss: 0.0052 - accuracy: 0.9983\n",
      "Epoch 22/50\n",
      "336/336 [==============================] - 3s 8ms/step - loss: 0.0051 - accuracy: 0.9986\n",
      "Epoch 23/50\n",
      "336/336 [==============================] - 3s 8ms/step - loss: 0.0094 - accuracy: 0.9970\n",
      "Epoch 24/50\n",
      "336/336 [==============================] - 2s 7ms/step - loss: 0.0053 - accuracy: 0.9986\n",
      "Epoch 25/50\n",
      "336/336 [==============================] - 3s 8ms/step - loss: 0.0032 - accuracy: 0.9989\n",
      "Epoch 26/50\n",
      "336/336 [==============================] - 3s 10ms/step - loss: 0.0069 - accuracy: 0.9979\n",
      "Epoch 27/50\n",
      "336/336 [==============================] - 3s 9ms/step - loss: 0.0072 - accuracy: 0.9977\n",
      "Epoch 28/50\n",
      "336/336 [==============================] - 3s 10ms/step - loss: 0.0033 - accuracy: 0.9991\n",
      "Epoch 29/50\n",
      "336/336 [==============================] - 3s 10ms/step - loss: 0.0031 - accuracy: 0.9990\n",
      "Epoch 30/50\n",
      "336/336 [==============================] - 3s 9ms/step - loss: 0.0050 - accuracy: 0.9985\n",
      "Epoch 31/50\n",
      "336/336 [==============================] - 3s 8ms/step - loss: 0.0063 - accuracy: 0.9980\n",
      "Epoch 32/50\n",
      "336/336 [==============================] - 3s 9ms/step - loss: 0.0013 - accuracy: 0.9997\n",
      "Epoch 33/50\n",
      "336/336 [==============================] - 3s 8ms/step - loss: 0.0056 - accuracy: 0.9986\n",
      "Epoch 34/50\n",
      "336/336 [==============================] - 3s 8ms/step - loss: 0.0048 - accuracy: 0.9985\n",
      "Epoch 35/50\n",
      "336/336 [==============================] - 3s 9ms/step - loss: 0.0049 - accuracy: 0.9986\n",
      "Epoch 36/50\n",
      "336/336 [==============================] - 3s 8ms/step - loss: 0.0043 - accuracy: 0.9987\n",
      "Epoch 37/50\n",
      "336/336 [==============================] - 3s 9ms/step - loss: 0.0026 - accuracy: 0.9993\n",
      "Epoch 38/50\n",
      "336/336 [==============================] - 3s 9ms/step - loss: 0.0018 - accuracy: 0.9995\n",
      "Epoch 39/50\n",
      "336/336 [==============================] - 4s 10ms/step - loss: 0.0038 - accuracy: 0.9988\n",
      "Epoch 40/50\n",
      "336/336 [==============================] - 3s 10ms/step - loss: 0.0057 - accuracy: 0.9982\n",
      "Epoch 41/50\n",
      "336/336 [==============================] - 3s 9ms/step - loss: 0.0035 - accuracy: 0.9989\n",
      "Epoch 42/50\n",
      "336/336 [==============================] - 3s 8ms/step - loss: 0.0032 - accuracy: 0.9990\n",
      "Epoch 43/50\n",
      "336/336 [==============================] - 3s 7ms/step - loss: 0.0025 - accuracy: 0.9991\n",
      "Epoch 44/50\n",
      "336/336 [==============================] - 2s 7ms/step - loss: 0.0024 - accuracy: 0.9992\n",
      "Epoch 45/50\n",
      "336/336 [==============================] - 2s 7ms/step - loss: 0.0024 - accuracy: 0.9993\n",
      "Epoch 46/50\n",
      "336/336 [==============================] - 2s 7ms/step - loss: 0.0024 - accuracy: 0.9990\n",
      "Epoch 47/50\n",
      "336/336 [==============================] - 2s 7ms/step - loss: 0.0049 - accuracy: 0.9985\n",
      "Epoch 48/50\n",
      "336/336 [==============================] - 2s 7ms/step - loss: 0.0021 - accuracy: 0.9995\n",
      "Epoch 49/50\n",
      "336/336 [==============================] - 2s 7ms/step - loss: 0.0014 - accuracy: 0.9996\n",
      "Epoch 50/50\n",
      "336/336 [==============================] - 2s 7ms/step - loss: 6.3369e-04 - accuracy: 0.9998\n",
      "263/263 [==============================] - 1s 2ms/step - loss: 0.0677 - accuracy: 0.9876\n"
     ]
    },
    {
     "data": {
      "text/plain": [
       "[0.0676751658320427, 0.9876190423965454]"
      ]
     },
     "execution_count": 27,
     "metadata": {},
     "output_type": "execute_result"
    }
   ],
   "source": [
    "#BatchNormalization() : 배치정규화 - 은닉층의 활성화 함수 전이나 후에 추가가능\n",
    "\n",
    "model = tf.keras.models.Sequential([  \n",
    "    keras.layers.Dense(512, activation='relu'),\n",
    "    keras.layers.BatchNormalization(), #활성화 함수 이후 추가\n",
    "    keras.layers.Dense(256, activation='relu'),    \n",
    "    keras.layers.BatchNormalization(), #활성화 함수 이후 추가\n",
    "    keras.layers.Dense(128, activation='relu'),\n",
    "    keras.layers.BatchNormalization(), #활성화 함수 이후 추가\n",
    "    keras.layers.Dense(64, activation='relu'),\n",
    "    keras.layers.BatchNormalization(), #활성화 함수 이후 추가\n",
    "    keras.layers.Dense(10, activation='softmax')\n",
    "])\n",
    "\n",
    "model.compile(loss=\"sparse_categorical_crossentropy\",\n",
    "              optimizer='adam',\n",
    "              metrics=[\"accuracy\"])\n",
    "\n",
    "model.fit(X_train, y_train, epochs=50, batch_size=100)\n",
    "model.evaluate(X_val, y_val)"
   ]
  },
  {
   "cell_type": "code",
   "execution_count": 28,
   "metadata": {},
   "outputs": [
    {
     "data": {
      "text/html": [
       "<div>\n",
       "<style scoped>\n",
       "    .dataframe tbody tr th:only-of-type {\n",
       "        vertical-align: middle;\n",
       "    }\n",
       "\n",
       "    .dataframe tbody tr th {\n",
       "        vertical-align: top;\n",
       "    }\n",
       "\n",
       "    .dataframe thead th {\n",
       "        text-align: right;\n",
       "    }\n",
       "</style>\n",
       "<table border=\"1\" class=\"dataframe\">\n",
       "  <thead>\n",
       "    <tr style=\"text-align: right;\">\n",
       "      <th></th>\n",
       "      <th>Id</th>\n",
       "      <th>Category</th>\n",
       "    </tr>\n",
       "  </thead>\n",
       "  <tbody>\n",
       "    <tr>\n",
       "      <td>0</td>\n",
       "      <td>57808</td>\n",
       "      <td>8</td>\n",
       "    </tr>\n",
       "    <tr>\n",
       "      <td>1</td>\n",
       "      <td>4960</td>\n",
       "      <td>0</td>\n",
       "    </tr>\n",
       "    <tr>\n",
       "      <td>2</td>\n",
       "      <td>35755</td>\n",
       "      <td>5</td>\n",
       "    </tr>\n",
       "    <tr>\n",
       "      <td>3</td>\n",
       "      <td>15543</td>\n",
       "      <td>3</td>\n",
       "    </tr>\n",
       "    <tr>\n",
       "      <td>4</td>\n",
       "      <td>48968</td>\n",
       "      <td>8</td>\n",
       "    </tr>\n",
       "  </tbody>\n",
       "</table>\n",
       "</div>"
      ],
      "text/plain": [
       "      Id  Category\n",
       "0  57808         8\n",
       "1   4960         0\n",
       "2  35755         5\n",
       "3  15543         3\n",
       "4  48968         8"
      ]
     },
     "execution_count": 28,
     "metadata": {},
     "output_type": "execute_result"
    }
   ],
   "source": [
    "predictions = model.predict_classes(X_test)\n",
    "\n",
    "sample_submission['Category'] = pd.Series(predictions)\n",
    "sample_submission.head()"
   ]
  },
  {
   "cell_type": "code",
   "execution_count": 29,
   "metadata": {},
   "outputs": [],
   "source": [
    "sample_submission.to_csv(\"submission.csv\",index=False)"
   ]
  },
  {
   "cell_type": "markdown",
   "metadata": {},
   "source": [
    "LeaderBoard Score : 0.98611로 증가했다."
   ]
  },
  {
   "cell_type": "markdown",
   "metadata": {},
   "source": [
    "#### 8. kernel_initializer='he_normal' 추가"
   ]
  },
  {
   "cell_type": "code",
   "execution_count": 30,
   "metadata": {
    "scrolled": true
   },
   "outputs": [
    {
     "name": "stdout",
     "output_type": "stream",
     "text": [
      "Epoch 1/50\n",
      "336/336 [==============================] - 5s 10ms/step - loss: 0.3003 - accuracy: 0.9125\n",
      "Epoch 2/50\n",
      "336/336 [==============================] - 3s 10ms/step - loss: 0.0539 - accuracy: 0.9830\n",
      "Epoch 3/50\n",
      "336/336 [==============================] - ETA: 0s - loss: 0.0316 - accuracy: 0.98 - 3s 10ms/step - loss: 0.0316 - accuracy: 0.9899\n",
      "Epoch 4/50\n",
      "336/336 [==============================] - 3s 10ms/step - loss: 0.0221 - accuracy: 0.9926\n",
      "Epoch 5/50\n",
      "336/336 [==============================] - 3s 9ms/step - loss: 0.0135 - accuracy: 0.9956\n",
      "Epoch 6/50\n",
      "336/336 [==============================] - 3s 9ms/step - loss: 0.0125 - accuracy: 0.9964\n",
      "Epoch 7/50\n",
      "336/336 [==============================] - 3s 9ms/step - loss: 0.0099 - accuracy: 0.9971\n",
      "Epoch 8/50\n",
      "336/336 [==============================] - 3s 9ms/step - loss: 0.0082 - accuracy: 0.9980\n",
      "Epoch 9/50\n",
      "336/336 [==============================] - 3s 9ms/step - loss: 0.0089 - accuracy: 0.9970\n",
      "Epoch 10/50\n",
      "336/336 [==============================] - 3s 9ms/step - loss: 0.0069 - accuracy: 0.9981 ETA: 0s - l\n",
      "Epoch 11/50\n",
      "336/336 [==============================] - 3s 10ms/step - loss: 0.0063 - accuracy: 0.9979\n",
      "Epoch 12/50\n",
      "336/336 [==============================] - 3s 9ms/step - loss: 0.0066 - accuracy: 0.9980\n",
      "Epoch 13/50\n",
      "336/336 [==============================] - 3s 9ms/step - loss: 0.0062 - accuracy: 0.9982\n",
      "Epoch 14/50\n",
      "336/336 [==============================] - 3s 9ms/step - loss: 0.0050 - accuracy: 0.9986\n",
      "Epoch 15/50\n",
      "336/336 [==============================] - 3s 9ms/step - loss: 0.0046 - accuracy: 0.9990\n",
      "Epoch 16/50\n",
      "336/336 [==============================] - 3s 9ms/step - loss: 0.0051 - accuracy: 0.9984\n",
      "Epoch 17/50\n",
      "336/336 [==============================] - 3s 8ms/step - loss: 0.0037 - accuracy: 0.9985\n",
      "Epoch 18/50\n",
      "336/336 [==============================] - 3s 9ms/step - loss: 0.0047 - accuracy: 0.9982\n",
      "Epoch 19/50\n",
      "336/336 [==============================] - 3s 9ms/step - loss: 0.0076 - accuracy: 0.9974\n",
      "Epoch 20/50\n",
      "336/336 [==============================] - 3s 9ms/step - loss: 0.0040 - accuracy: 0.9989\n",
      "Epoch 21/50\n",
      "336/336 [==============================] - 3s 9ms/step - loss: 0.0059 - accuracy: 0.9984\n",
      "Epoch 22/50\n",
      "336/336 [==============================] - 3s 9ms/step - loss: 0.0040 - accuracy: 0.9987\n",
      "Epoch 23/50\n",
      "336/336 [==============================] - 3s 9ms/step - loss: 0.0030 - accuracy: 0.9990\n",
      "Epoch 24/50\n",
      "336/336 [==============================] - 3s 8ms/step - loss: 0.0047 - accuracy: 0.9984\n",
      "Epoch 25/50\n",
      "336/336 [==============================] - 3s 9ms/step - loss: 0.0042 - accuracy: 0.9987\n",
      "Epoch 26/50\n",
      "336/336 [==============================] - 3s 8ms/step - loss: 0.0035 - accuracy: 0.9989\n",
      "Epoch 27/50\n",
      "336/336 [==============================] - 3s 8ms/step - loss: 0.0045 - accuracy: 0.9984\n",
      "Epoch 28/50\n",
      "336/336 [==============================] - 3s 9ms/step - loss: 0.0038 - accuracy: 0.9990\n",
      "Epoch 29/50\n",
      "336/336 [==============================] - 4s 11ms/step - loss: 0.0032 - accuracy: 0.9991\n",
      "Epoch 30/50\n",
      "336/336 [==============================] - 3s 10ms/step - loss: 0.0042 - accuracy: 0.9990\n",
      "Epoch 31/50\n",
      "336/336 [==============================] - 3s 9ms/step - loss: 0.0056 - accuracy: 0.9988\n",
      "Epoch 32/50\n",
      "336/336 [==============================] - 3s 10ms/step - loss: 0.0038 - accuracy: 0.9993\n",
      "Epoch 33/50\n",
      "336/336 [==============================] - 3s 9ms/step - loss: 0.0036 - accuracy: 0.9987\n",
      "Epoch 34/50\n",
      "336/336 [==============================] - 3s 10ms/step - loss: 0.0045 - accuracy: 0.9988\n",
      "Epoch 35/50\n",
      "336/336 [==============================] - 3s 9ms/step - loss: 0.0032 - accuracy: 0.9989\n",
      "Epoch 36/50\n",
      "336/336 [==============================] - 3s 9ms/step - loss: 0.0035 - accuracy: 0.9991\n",
      "Epoch 37/50\n",
      "336/336 [==============================] - 3s 9ms/step - loss: 0.0044 - accuracy: 0.9989\n",
      "Epoch 38/50\n",
      "336/336 [==============================] - 3s 10ms/step - loss: 0.0035 - accuracy: 0.9990\n",
      "Epoch 39/50\n",
      "336/336 [==============================] - 3s 9ms/step - loss: 0.0029 - accuracy: 0.9991\n",
      "Epoch 40/50\n",
      "336/336 [==============================] - 3s 10ms/step - loss: 0.0029 - accuracy: 0.9992\n",
      "Epoch 41/50\n",
      "336/336 [==============================] - 4s 11ms/step - loss: 0.0038 - accuracy: 0.9991\n",
      "Epoch 42/50\n",
      "336/336 [==============================] - 3s 10ms/step - loss: 0.0024 - accuracy: 0.9992\n",
      "Epoch 43/50\n",
      "336/336 [==============================] - 3s 10ms/step - loss: 0.0025 - accuracy: 0.9990\n",
      "Epoch 44/50\n",
      "336/336 [==============================] - 3s 10ms/step - loss: 0.0018 - accuracy: 0.9994\n",
      "Epoch 45/50\n",
      "336/336 [==============================] - 3s 10ms/step - loss: 0.0043 - accuracy: 0.9982\n",
      "Epoch 46/50\n",
      "336/336 [==============================] - 3s 9ms/step - loss: 0.0042 - accuracy: 0.9987\n",
      "Epoch 47/50\n",
      "336/336 [==============================] - 4s 10ms/step - loss: 0.0033 - accuracy: 0.9988\n",
      "Epoch 48/50\n",
      "336/336 [==============================] - 3s 10ms/step - loss: 0.0034 - accuracy: 0.9989\n",
      "Epoch 49/50\n",
      "336/336 [==============================] - 3s 9ms/step - loss: 0.0026 - accuracy: 0.9992\n",
      "Epoch 50/50\n",
      "336/336 [==============================] - 4s 11ms/step - loss: 0.0036 - accuracy: 0.9989\n",
      "263/263 [==============================] - 1s 2ms/step - loss: 0.1031 - accuracy: 0.9861\n"
     ]
    },
    {
     "data": {
      "text/plain": [
       "[0.10306155681610107, 0.9860714077949524]"
      ]
     },
     "execution_count": 30,
     "metadata": {},
     "output_type": "execute_result"
    }
   ],
   "source": [
    "#BatchNormalization() : 배치정규화 - 은닉층의 활성화 함수 전이나 후에 추가가능\n",
    "\n",
    "model = tf.keras.models.Sequential([  \n",
    "    keras.layers.Dense(512, activation='relu', kernel_initializer='he_normal'),\n",
    "    keras.layers.BatchNormalization(), #활성화 함수 이후 추가\n",
    "    keras.layers.Dense(256, activation='relu'),    \n",
    "    keras.layers.BatchNormalization(), #활성화 함수 이후 추가\n",
    "    keras.layers.Dense(128, activation='relu'),\n",
    "    keras.layers.BatchNormalization(), #활성화 함수 이후 추가\n",
    "    keras.layers.Dense(64, activation='relu'),\n",
    "    keras.layers.BatchNormalization(), #활성화 함수 이후 추가\n",
    "    keras.layers.Dense(10, activation='softmax')\n",
    "])\n",
    "\n",
    "model.compile(loss=\"sparse_categorical_crossentropy\",\n",
    "              optimizer='rmsprop',\n",
    "              metrics=[\"accuracy\"])\n",
    "\n",
    "model.fit(X_train, y_train, epochs=50, batch_size=100)\n",
    "model.evaluate(X_val, y_val)"
   ]
  },
  {
   "cell_type": "code",
   "execution_count": 31,
   "metadata": {},
   "outputs": [
    {
     "data": {
      "text/html": [
       "<div>\n",
       "<style scoped>\n",
       "    .dataframe tbody tr th:only-of-type {\n",
       "        vertical-align: middle;\n",
       "    }\n",
       "\n",
       "    .dataframe tbody tr th {\n",
       "        vertical-align: top;\n",
       "    }\n",
       "\n",
       "    .dataframe thead th {\n",
       "        text-align: right;\n",
       "    }\n",
       "</style>\n",
       "<table border=\"1\" class=\"dataframe\">\n",
       "  <thead>\n",
       "    <tr style=\"text-align: right;\">\n",
       "      <th></th>\n",
       "      <th>Id</th>\n",
       "      <th>Category</th>\n",
       "    </tr>\n",
       "  </thead>\n",
       "  <tbody>\n",
       "    <tr>\n",
       "      <td>0</td>\n",
       "      <td>57808</td>\n",
       "      <td>8</td>\n",
       "    </tr>\n",
       "    <tr>\n",
       "      <td>1</td>\n",
       "      <td>4960</td>\n",
       "      <td>0</td>\n",
       "    </tr>\n",
       "    <tr>\n",
       "      <td>2</td>\n",
       "      <td>35755</td>\n",
       "      <td>5</td>\n",
       "    </tr>\n",
       "    <tr>\n",
       "      <td>3</td>\n",
       "      <td>15543</td>\n",
       "      <td>3</td>\n",
       "    </tr>\n",
       "    <tr>\n",
       "      <td>4</td>\n",
       "      <td>48968</td>\n",
       "      <td>8</td>\n",
       "    </tr>\n",
       "  </tbody>\n",
       "</table>\n",
       "</div>"
      ],
      "text/plain": [
       "      Id  Category\n",
       "0  57808         8\n",
       "1   4960         0\n",
       "2  35755         5\n",
       "3  15543         3\n",
       "4  48968         8"
      ]
     },
     "execution_count": 31,
     "metadata": {},
     "output_type": "execute_result"
    }
   ],
   "source": [
    "predictions = model.predict_classes(X_test)\n",
    "\n",
    "sample_submission['Category'] = pd.Series(predictions)\n",
    "sample_submission.head()"
   ]
  },
  {
   "cell_type": "code",
   "execution_count": 32,
   "metadata": {},
   "outputs": [],
   "source": [
    "sample_submission.to_csv(\"submission.csv\",index=False)"
   ]
  },
  {
   "cell_type": "markdown",
   "metadata": {},
   "source": [
    "LeaderBoard Score : 0.98666로 증가했다."
   ]
  },
  {
   "cell_type": "markdown",
   "metadata": {},
   "source": [
    "### 9. 최종모델"
   ]
  },
  {
   "cell_type": "code",
   "execution_count": 67,
   "metadata": {
    "scrolled": true
   },
   "outputs": [
    {
     "name": "stdout",
     "output_type": "stream",
     "text": [
      "Epoch 1/50\n",
      "336/336 [==============================] - 4s 8ms/step - loss: 0.7694 - accuracy: 0.7959\n",
      "Epoch 2/50\n",
      "336/336 [==============================] - 3s 8ms/step - loss: 0.0878 - accuracy: 0.9788\n",
      "Epoch 3/50\n",
      "336/336 [==============================] - 3s 8ms/step - loss: 0.0562 - accuracy: 0.9856\n",
      "Epoch 4/50\n",
      "336/336 [==============================] - 3s 8ms/step - loss: 0.0401 - accuracy: 0.9893\n",
      "Epoch 5/50\n",
      "336/336 [==============================] - 3s 8ms/step - loss: 0.0294 - accuracy: 0.9914: 0s - loss: 0.0291 - accu\n",
      "Epoch 6/50\n",
      "336/336 [==============================] - 3s 8ms/step - loss: 0.0303 - accuracy: 0.9914\n",
      "Epoch 7/50\n",
      "336/336 [==============================] - 3s 8ms/step - loss: 0.0251 - accuracy: 0.9927\n",
      "Epoch 8/50\n",
      "336/336 [==============================] - 3s 8ms/step - loss: 0.0183 - accuracy: 0.9946\n",
      "Epoch 9/50\n",
      "336/336 [==============================] - 3s 8ms/step - loss: 0.0166 - accuracy: 0.9948\n",
      "Epoch 10/50\n",
      "336/336 [==============================] - 3s 8ms/step - loss: 0.0209 - accuracy: 0.9941\n",
      "Epoch 11/50\n",
      "336/336 [==============================] - 2s 7ms/step - loss: 0.0175 - accuracy: 0.9944\n",
      "Epoch 12/50\n",
      "336/336 [==============================] - 3s 7ms/step - loss: 0.0146 - accuracy: 0.9956\n",
      "Epoch 13/50\n",
      "336/336 [==============================] - 2s 7ms/step - loss: 0.0117 - accuracy: 0.9968\n",
      "Epoch 14/50\n",
      "336/336 [==============================] - 3s 8ms/step - loss: 0.0099 - accuracy: 0.9972\n",
      "Epoch 15/50\n",
      "336/336 [==============================] - 3s 8ms/step - loss: 0.0146 - accuracy: 0.9960\n",
      "Epoch 16/50\n",
      "336/336 [==============================] - 3s 9ms/step - loss: 0.0098 - accuracy: 0.9973\n",
      "Epoch 17/50\n",
      "336/336 [==============================] - 3s 7ms/step - loss: 0.0068 - accuracy: 0.9983\n",
      "Epoch 18/50\n",
      "336/336 [==============================] - 3s 8ms/step - loss: 0.0097 - accuracy: 0.9967\n",
      "Epoch 19/50\n",
      "336/336 [==============================] - 3s 9ms/step - loss: 0.0129 - accuracy: 0.9961\n",
      "Epoch 20/50\n",
      "336/336 [==============================] - 3s 8ms/step - loss: 0.0138 - accuracy: 0.9952\n",
      "Epoch 21/50\n",
      "336/336 [==============================] - 3s 8ms/step - loss: 0.0091 - accuracy: 0.9974\n",
      "Epoch 22/50\n",
      "336/336 [==============================] - 3s 8ms/step - loss: 0.0089 - accuracy: 0.9973\n",
      "Epoch 23/50\n",
      "336/336 [==============================] - 3s 8ms/step - loss: 0.0096 - accuracy: 0.9970\n",
      "Epoch 24/50\n",
      "336/336 [==============================] - 3s 8ms/step - loss: 0.0065 - accuracy: 0.9980\n",
      "Epoch 25/50\n",
      "336/336 [==============================] - 3s 10ms/step - loss: 0.0058 - accuracy: 0.9982\n",
      "Epoch 26/50\n",
      "336/336 [==============================] - 3s 9ms/step - loss: 0.0064 - accuracy: 0.9980\n",
      "Epoch 27/50\n",
      "336/336 [==============================] - 3s 10ms/step - loss: 0.0094 - accuracy: 0.9973\n",
      "Epoch 28/50\n",
      "336/336 [==============================] - 3s 10ms/step - loss: 0.0081 - accuracy: 0.9974\n",
      "Epoch 29/50\n",
      "336/336 [==============================] - 3s 10ms/step - loss: 0.0053 - accuracy: 0.9986\n",
      "Epoch 30/50\n",
      "336/336 [==============================] - 3s 9ms/step - loss: 0.0057 - accuracy: 0.9982\n",
      "Epoch 31/50\n",
      "336/336 [==============================] - 3s 9ms/step - loss: 0.0072 - accuracy: 0.9978\n",
      "Epoch 32/50\n",
      "336/336 [==============================] - 3s 9ms/step - loss: 0.0051 - accuracy: 0.9988\n",
      "Epoch 33/50\n",
      "336/336 [==============================] - 3s 9ms/step - loss: 0.0051 - accuracy: 0.9983\n",
      "Epoch 34/50\n",
      "336/336 [==============================] - 3s 9ms/step - loss: 0.0052 - accuracy: 0.9988\n",
      "Epoch 35/50\n",
      "336/336 [==============================] - 3s 7ms/step - loss: 0.0048 - accuracy: 0.9988\n",
      "Epoch 36/50\n",
      "336/336 [==============================] - 3s 8ms/step - loss: 0.0066 - accuracy: 0.9977\n",
      "Epoch 37/50\n",
      "336/336 [==============================] - 3s 8ms/step - loss: 0.0063 - accuracy: 0.9980\n",
      "Epoch 38/50\n",
      "336/336 [==============================] - 3s 9ms/step - loss: 0.0039 - accuracy: 0.9988\n",
      "Epoch 39/50\n",
      "336/336 [==============================] - 3s 8ms/step - loss: 0.0053 - accuracy: 0.9985\n",
      "Epoch 40/50\n",
      "336/336 [==============================] - 3s 9ms/step - loss: 0.0079 - accuracy: 0.9978\n",
      "Epoch 41/50\n",
      "336/336 [==============================] - 3s 8ms/step - loss: 0.0036 - accuracy: 0.9991\n",
      "Epoch 42/50\n",
      "336/336 [==============================] - 3s 9ms/step - loss: 0.0016 - accuracy: 0.9994\n",
      "Epoch 43/50\n",
      "336/336 [==============================] - 3s 8ms/step - loss: 0.0026 - accuracy: 0.9991\n",
      "Epoch 44/50\n",
      "336/336 [==============================] - 3s 9ms/step - loss: 0.0051 - accuracy: 0.9982\n",
      "Epoch 45/50\n",
      "336/336 [==============================] - 3s 8ms/step - loss: 0.0085 - accuracy: 0.9976\n",
      "Epoch 46/50\n",
      "336/336 [==============================] - 3s 8ms/step - loss: 0.0046 - accuracy: 0.9984\n",
      "Epoch 47/50\n",
      "336/336 [==============================] - 2s 7ms/step - loss: 0.0029 - accuracy: 0.9990\n",
      "Epoch 48/50\n",
      "336/336 [==============================] - ETA: 0s - loss: 0.0066 - accuracy: 0.99 - 3s 8ms/step - loss: 0.0066 - accuracy: 0.9983\n",
      "Epoch 49/50\n",
      "336/336 [==============================] - 3s 9ms/step - loss: 0.0021 - accuracy: 0.9993\n",
      "Epoch 50/50\n",
      "336/336 [==============================] - 3s 10ms/step - loss: 0.0042 - accuracy: 0.9985\n",
      "263/263 [==============================] - 2s 3ms/step - loss: 0.0727 - accuracy: 0.9868\n"
     ]
    },
    {
     "data": {
      "text/plain": [
       "[0.07265730202198029, 0.9867857098579407]"
      ]
     },
     "execution_count": 67,
     "metadata": {},
     "output_type": "execute_result"
    }
   ],
   "source": [
    "#BatchNormalization() : 배치정규화 - 은닉층의 활성화 함수 전이나 후에 추가가능\n",
    "\n",
    "model = tf.keras.models.Sequential([  \n",
    "    keras.layers.Dense(512, activation='relu', kernel_initializer='he_normal'),\n",
    "    keras.layers.BatchNormalization(), #활성화 함수 이후 추가\n",
    "    keras.layers.Dense(256, activation='relu', kernel_initializer='he_normal'),    \n",
    "    keras.layers.BatchNormalization(), #활성화 함수 이후 추가\n",
    "    keras.layers.Dense(128, activation='relu', kernel_initializer='he_normal'),\n",
    "    keras.layers.BatchNormalization(), #활성화 함수 이후 추가\n",
    "    keras.layers.Dense(64, activation='relu', kernel_initializer='he_normal'),\n",
    "    keras.layers.BatchNormalization(), #활성화 함수 이후 추가\n",
    "    keras.layers.Dense(32, activation='relu', kernel_initializer='he_normal'),\n",
    "    keras.layers.BatchNormalization(), #활성화 함수 이후 추가\n",
    "    keras.layers.Dense(16, activation='relu', kernel_initializer='he_normal'),\n",
    "    keras.layers.BatchNormalization(), #활성화 함수 이후 추가\n",
    "    keras.layers.Dense(10, activation='softmax')\n",
    "])\n",
    "\n",
    "model.compile(loss=\"sparse_categorical_crossentropy\",\n",
    "              optimizer='adam',\n",
    "              metrics=[\"accuracy\"])\n",
    "\n",
    "model.fit(X_train, y_train, epochs=50, batch_size=100)\n",
    "model.evaluate(X_val, y_val)"
   ]
  },
  {
   "cell_type": "code",
   "execution_count": 71,
   "metadata": {},
   "outputs": [
    {
     "name": "stdout",
     "output_type": "stream",
     "text": [
      "Model: \"sequential_30\"\n",
      "_________________________________________________________________\n",
      "Layer (type)                 Output Shape              Param #   \n",
      "=================================================================\n",
      "dense_169 (Dense)            (None, 512)               401920    \n",
      "_________________________________________________________________\n",
      "batch_normalization_137 (Bat (None, 512)               2048      \n",
      "_________________________________________________________________\n",
      "dense_170 (Dense)            (None, 256)               131328    \n",
      "_________________________________________________________________\n",
      "batch_normalization_138 (Bat (None, 256)               1024      \n",
      "_________________________________________________________________\n",
      "dense_171 (Dense)            (None, 128)               32896     \n",
      "_________________________________________________________________\n",
      "batch_normalization_139 (Bat (None, 128)               512       \n",
      "_________________________________________________________________\n",
      "dense_172 (Dense)            (None, 64)                8256      \n",
      "_________________________________________________________________\n",
      "batch_normalization_140 (Bat (None, 64)                256       \n",
      "_________________________________________________________________\n",
      "dense_173 (Dense)            (None, 32)                2080      \n",
      "_________________________________________________________________\n",
      "batch_normalization_141 (Bat (None, 32)                128       \n",
      "_________________________________________________________________\n",
      "dense_174 (Dense)            (None, 16)                528       \n",
      "_________________________________________________________________\n",
      "batch_normalization_142 (Bat (None, 16)                64        \n",
      "_________________________________________________________________\n",
      "dense_175 (Dense)            (None, 10)                170       \n",
      "=================================================================\n",
      "Total params: 581,210\n",
      "Trainable params: 579,194\n",
      "Non-trainable params: 2,016\n",
      "_________________________________________________________________\n"
     ]
    }
   ],
   "source": [
    "model.summary()"
   ]
  },
  {
   "cell_type": "code",
   "execution_count": 68,
   "metadata": {},
   "outputs": [
    {
     "data": {
      "text/html": [
       "<div>\n",
       "<style scoped>\n",
       "    .dataframe tbody tr th:only-of-type {\n",
       "        vertical-align: middle;\n",
       "    }\n",
       "\n",
       "    .dataframe tbody tr th {\n",
       "        vertical-align: top;\n",
       "    }\n",
       "\n",
       "    .dataframe thead th {\n",
       "        text-align: right;\n",
       "    }\n",
       "</style>\n",
       "<table border=\"1\" class=\"dataframe\">\n",
       "  <thead>\n",
       "    <tr style=\"text-align: right;\">\n",
       "      <th></th>\n",
       "      <th>Id</th>\n",
       "      <th>Category</th>\n",
       "    </tr>\n",
       "  </thead>\n",
       "  <tbody>\n",
       "    <tr>\n",
       "      <td>0</td>\n",
       "      <td>57808</td>\n",
       "      <td>8</td>\n",
       "    </tr>\n",
       "    <tr>\n",
       "      <td>1</td>\n",
       "      <td>4960</td>\n",
       "      <td>0</td>\n",
       "    </tr>\n",
       "    <tr>\n",
       "      <td>2</td>\n",
       "      <td>35755</td>\n",
       "      <td>5</td>\n",
       "    </tr>\n",
       "    <tr>\n",
       "      <td>3</td>\n",
       "      <td>15543</td>\n",
       "      <td>3</td>\n",
       "    </tr>\n",
       "    <tr>\n",
       "      <td>4</td>\n",
       "      <td>48968</td>\n",
       "      <td>8</td>\n",
       "    </tr>\n",
       "  </tbody>\n",
       "</table>\n",
       "</div>"
      ],
      "text/plain": [
       "      Id  Category\n",
       "0  57808         8\n",
       "1   4960         0\n",
       "2  35755         5\n",
       "3  15543         3\n",
       "4  48968         8"
      ]
     },
     "execution_count": 68,
     "metadata": {},
     "output_type": "execute_result"
    }
   ],
   "source": [
    "predictions = model.predict_classes(X_test)\n",
    "\n",
    "sample_submission['Category'] = pd.Series(predictions)\n",
    "sample_submission.head()"
   ]
  },
  {
   "cell_type": "code",
   "execution_count": 72,
   "metadata": {},
   "outputs": [],
   "source": [
    "sample_submission.to_csv(\"submission.csv\",index=False)"
   ]
  },
  {
   "cell_type": "markdown",
   "metadata": {},
   "source": [
    "LeaderBoard Score : 0.98677로 증가했다."
   ]
  }
 ],
 "metadata": {
  "kernelspec": {
   "display_name": "Python 3",
   "language": "python",
   "name": "python3"
  },
  "language_info": {
   "codemirror_mode": {
    "name": "ipython",
    "version": 3
   },
   "file_extension": ".py",
   "mimetype": "text/x-python",
   "name": "python",
   "nbconvert_exporter": "python",
   "pygments_lexer": "ipython3",
   "version": "3.7.4"
  }
 },
 "nbformat": 4,
 "nbformat_minor": 2
}
